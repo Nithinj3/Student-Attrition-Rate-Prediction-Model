{
 "cells": [
  {
   "cell_type": "code",
   "execution_count": 48,
   "metadata": {},
   "outputs": [],
   "source": [
    "#Import Libraries\n",
    "\n",
    "import pandas as pd\n",
    "import numpy as np\n",
    "import matplotlib.pyplot as plt\n",
    "import seaborn as sns\n",
    "from scipy import stats\n",
    "from warnings import filterwarnings\n",
    "filterwarnings('ignore')"
   ]
  },
  {
   "cell_type": "code",
   "execution_count": 21,
   "metadata": {},
   "outputs": [
    {
     "data": {
      "text/html": [
       "<div>\n",
       "<style scoped>\n",
       "    .dataframe tbody tr th:only-of-type {\n",
       "        vertical-align: middle;\n",
       "    }\n",
       "\n",
       "    .dataframe tbody tr th {\n",
       "        vertical-align: top;\n",
       "    }\n",
       "\n",
       "    .dataframe thead th {\n",
       "        text-align: right;\n",
       "    }\n",
       "</style>\n",
       "<table border=\"1\" class=\"dataframe\">\n",
       "  <thead>\n",
       "    <tr style=\"text-align: right;\">\n",
       "      <th></th>\n",
       "      <th>STUDENT IDENTIFIER</th>\n",
       "      <th>STDNT_AGE</th>\n",
       "      <th>STDNT_GENDER</th>\n",
       "      <th>STDNT_BACKGROUND</th>\n",
       "      <th>IN_STATE_FLAG</th>\n",
       "      <th>INTERNATIONAL_STS</th>\n",
       "      <th>STDNT_MAJOR</th>\n",
       "      <th>STDNT_MINOR</th>\n",
       "      <th>STDNT_TEST_ENTRANCE1</th>\n",
       "      <th>STDNT_TEST_ENTRANCE2</th>\n",
       "      <th>...</th>\n",
       "      <th>DEGREE_GROUP_CD</th>\n",
       "      <th>DEGREE_GROUP_DESC</th>\n",
       "      <th>FIRST_TERM_ATTEMPT_HRS</th>\n",
       "      <th>FIRST_TERM_EARNED_HRS</th>\n",
       "      <th>SECOND_TERM_ATTEMPT_HRS</th>\n",
       "      <th>SECOND_TERM_EARNED_HRS</th>\n",
       "      <th>GROSS_FIN_NEED</th>\n",
       "      <th>COST_OF_ATTEND</th>\n",
       "      <th>EST_FAM_CONTRIBUTION</th>\n",
       "      <th>UNMET_NEED</th>\n",
       "    </tr>\n",
       "  </thead>\n",
       "  <tbody>\n",
       "    <tr>\n",
       "      <th>0</th>\n",
       "      <td>7808615</td>\n",
       "      <td>18</td>\n",
       "      <td>F</td>\n",
       "      <td>BGD 1</td>\n",
       "      <td>Y</td>\n",
       "      <td>N</td>\n",
       "      <td>Undeclared</td>\n",
       "      <td>N</td>\n",
       "      <td>NaN</td>\n",
       "      <td>1150.0</td>\n",
       "      <td>...</td>\n",
       "      <td>B</td>\n",
       "      <td>Bachelors</td>\n",
       "      <td>16</td>\n",
       "      <td>16</td>\n",
       "      <td>14.0</td>\n",
       "      <td>14.0</td>\n",
       "      <td>0</td>\n",
       "      <td>0</td>\n",
       "      <td>0</td>\n",
       "      <td>0.0</td>\n",
       "    </tr>\n",
       "    <tr>\n",
       "      <th>1</th>\n",
       "      <td>7830063</td>\n",
       "      <td>19</td>\n",
       "      <td>F</td>\n",
       "      <td>BGD 1</td>\n",
       "      <td>N</td>\n",
       "      <td>N</td>\n",
       "      <td>Undeclared</td>\n",
       "      <td>N</td>\n",
       "      <td>26.0</td>\n",
       "      <td>NaN</td>\n",
       "      <td>...</td>\n",
       "      <td>B</td>\n",
       "      <td>Bachelors</td>\n",
       "      <td>18</td>\n",
       "      <td>18</td>\n",
       "      <td>18.0</td>\n",
       "      <td>18.0</td>\n",
       "      <td>570000</td>\n",
       "      <td>1355760</td>\n",
       "      <td>785760</td>\n",
       "      <td>459300.0</td>\n",
       "    </tr>\n",
       "    <tr>\n",
       "      <th>2</th>\n",
       "      <td>7847538</td>\n",
       "      <td>18</td>\n",
       "      <td>M</td>\n",
       "      <td>BGD 1</td>\n",
       "      <td>Y</td>\n",
       "      <td>N</td>\n",
       "      <td>Mathematics</td>\n",
       "      <td>N</td>\n",
       "      <td>NaN</td>\n",
       "      <td>1020.0</td>\n",
       "      <td>...</td>\n",
       "      <td>B</td>\n",
       "      <td>Bachelors</td>\n",
       "      <td>15</td>\n",
       "      <td>15</td>\n",
       "      <td>14.0</td>\n",
       "      <td>14.0</td>\n",
       "      <td>0</td>\n",
       "      <td>0</td>\n",
       "      <td>0</td>\n",
       "      <td>0.0</td>\n",
       "    </tr>\n",
       "    <tr>\n",
       "      <th>3</th>\n",
       "      <td>8006429</td>\n",
       "      <td>18</td>\n",
       "      <td>M</td>\n",
       "      <td>BGD 1</td>\n",
       "      <td>Y</td>\n",
       "      <td>N</td>\n",
       "      <td>Undeclared</td>\n",
       "      <td>N</td>\n",
       "      <td>NaN</td>\n",
       "      <td>1210.0</td>\n",
       "      <td>...</td>\n",
       "      <td>B</td>\n",
       "      <td>Bachelors</td>\n",
       "      <td>13</td>\n",
       "      <td>13</td>\n",
       "      <td>14.0</td>\n",
       "      <td>14.0</td>\n",
       "      <td>0</td>\n",
       "      <td>0</td>\n",
       "      <td>0</td>\n",
       "      <td>0.0</td>\n",
       "    </tr>\n",
       "    <tr>\n",
       "      <th>4</th>\n",
       "      <td>7962680</td>\n",
       "      <td>18</td>\n",
       "      <td>F</td>\n",
       "      <td>BGD 1</td>\n",
       "      <td>Y</td>\n",
       "      <td>N</td>\n",
       "      <td>Art</td>\n",
       "      <td>N</td>\n",
       "      <td>NaN</td>\n",
       "      <td>1200.0</td>\n",
       "      <td>...</td>\n",
       "      <td>B</td>\n",
       "      <td>Bachelors</td>\n",
       "      <td>12</td>\n",
       "      <td>12</td>\n",
       "      <td>12.0</td>\n",
       "      <td>12.0</td>\n",
       "      <td>835920</td>\n",
       "      <td>1355760</td>\n",
       "      <td>519840</td>\n",
       "      <td>278340.0</td>\n",
       "    </tr>\n",
       "  </tbody>\n",
       "</table>\n",
       "<p>5 rows × 56 columns</p>\n",
       "</div>"
      ],
      "text/plain": [
       "   STUDENT IDENTIFIER  STDNT_AGE STDNT_GENDER STDNT_BACKGROUND IN_STATE_FLAG  \\\n",
       "0             7808615         18            F            BGD 1             Y   \n",
       "1             7830063         19            F            BGD 1             N   \n",
       "2             7847538         18            M            BGD 1             Y   \n",
       "3             8006429         18            M            BGD 1             Y   \n",
       "4             7962680         18            F            BGD 1             Y   \n",
       "\n",
       "  INTERNATIONAL_STS  STDNT_MAJOR STDNT_MINOR  STDNT_TEST_ENTRANCE1  \\\n",
       "0                 N   Undeclared           N                   NaN   \n",
       "1                 N   Undeclared           N                  26.0   \n",
       "2                 N  Mathematics           N                   NaN   \n",
       "3                 N   Undeclared           N                   NaN   \n",
       "4                 N          Art           N                   NaN   \n",
       "\n",
       "   STDNT_TEST_ENTRANCE2  ...  DEGREE_GROUP_CD  DEGREE_GROUP_DESC  \\\n",
       "0                1150.0  ...                B          Bachelors   \n",
       "1                   NaN  ...                B          Bachelors   \n",
       "2                1020.0  ...                B          Bachelors   \n",
       "3                1210.0  ...                B          Bachelors   \n",
       "4                1200.0  ...                B          Bachelors   \n",
       "\n",
       "  FIRST_TERM_ATTEMPT_HRS FIRST_TERM_EARNED_HRS SECOND_TERM_ATTEMPT_HRS  \\\n",
       "0                     16                    16                    14.0   \n",
       "1                     18                    18                    18.0   \n",
       "2                     15                    15                    14.0   \n",
       "3                     13                    13                    14.0   \n",
       "4                     12                    12                    12.0   \n",
       "\n",
       "  SECOND_TERM_EARNED_HRS GROSS_FIN_NEED COST_OF_ATTEND EST_FAM_CONTRIBUTION  \\\n",
       "0                   14.0              0              0                    0   \n",
       "1                   18.0         570000        1355760               785760   \n",
       "2                   14.0              0              0                    0   \n",
       "3                   14.0              0              0                    0   \n",
       "4                   12.0         835920        1355760               519840   \n",
       "\n",
       "  UNMET_NEED  \n",
       "0        0.0  \n",
       "1   459300.0  \n",
       "2        0.0  \n",
       "3        0.0  \n",
       "4   278340.0  \n",
       "\n",
       "[5 rows x 56 columns]"
      ]
     },
     "execution_count": 21,
     "metadata": {},
     "output_type": "execute_result"
    }
   ],
   "source": [
    "#Read the dataset\n",
    "\n",
    "df = pd.read_excel('Student Applications & Performance (1).xlsx')\n",
    "df.head()"
   ]
  },
  {
   "cell_type": "code",
   "execution_count": 22,
   "metadata": {},
   "outputs": [],
   "source": [
    "df_copy = df.copy()"
   ]
  },
  {
   "cell_type": "code",
   "execution_count": 4,
   "metadata": {},
   "outputs": [
    {
     "data": {
      "text/plain": [
       "(3400, 56)"
      ]
     },
     "execution_count": 4,
     "metadata": {},
     "output_type": "execute_result"
    }
   ],
   "source": [
    "df.shape"
   ]
  },
  {
   "cell_type": "code",
   "execution_count": 5,
   "metadata": {},
   "outputs": [
    {
     "name": "stdout",
     "output_type": "stream",
     "text": [
      "<class 'pandas.core.frame.DataFrame'>\n",
      "RangeIndex: 3400 entries, 0 to 3399\n",
      "Data columns (total 56 columns):\n",
      " #   Column                    Non-Null Count  Dtype  \n",
      "---  ------                    --------------  -----  \n",
      " 0   STUDENT IDENTIFIER        3400 non-null   int64  \n",
      " 1   STDNT_AGE                 3400 non-null   int64  \n",
      " 2   STDNT_GENDER              3400 non-null   object \n",
      " 3   STDNT_BACKGROUND          3400 non-null   object \n",
      " 4   IN_STATE_FLAG             3400 non-null   object \n",
      " 5   INTERNATIONAL_STS         3400 non-null   object \n",
      " 6   STDNT_MAJOR               3400 non-null   object \n",
      " 7   STDNT_MINOR               3400 non-null   object \n",
      " 8   STDNT_TEST_ENTRANCE1      1106 non-null   float64\n",
      " 9   STDNT_TEST_ENTRANCE2      2492 non-null   float64\n",
      " 10  STDNT_TEST_ENTRANCE_COMB  2882 non-null   float64\n",
      " 11  FIRST_TERM                3400 non-null   int64  \n",
      " 12  CORE_COURSE_NAME_1_F      3400 non-null   object \n",
      " 13  CORE_COURSE_GRADE_1_F     3400 non-null   object \n",
      " 14  CORE_COURSE_NAME_2_F      3301 non-null   object \n",
      " 15  CORE_COURSE_GRADE_2_F     3301 non-null   object \n",
      " 16  CORE_COURSE_NAME_3_F      2835 non-null   object \n",
      " 17  CORE_COURSE_GRADE_3_F     2835 non-null   object \n",
      " 18  CORE_COURSE_NAME_4_F      1803 non-null   object \n",
      " 19  CORE_COURSE_GRADE_4_F     1803 non-null   object \n",
      " 20  CORE_COURSE_NAME_5_F      645 non-null    object \n",
      " 21  CORE_COURSE_GRADE_5_F     645 non-null    object \n",
      " 22  CORE_COURSE_NAME_6_F      128 non-null    object \n",
      " 23  CORE_COURSE_GRADE_6_F     128 non-null    object \n",
      " 24  SECOND_TERM               3400 non-null   int64  \n",
      " 25  CORE_COURSE_NAME_1_S      3243 non-null   object \n",
      " 26  CORE_COURSE_GRADE_1_S     3168 non-null   object \n",
      " 27  CORE_COURSE_NAME_2_S      2961 non-null   object \n",
      " 28  CORE_COURSE_GRADE_2_S     2961 non-null   object \n",
      " 29  CORE_COURSE_NAME_3_S      2362 non-null   object \n",
      " 30  CORE_COURSE_GRADE_3_S     2362 non-null   object \n",
      " 31  CORE_COURSE_NAME_4_S      1355 non-null   object \n",
      " 32  CORE_COURSE_GRADE_4_S     1355 non-null   object \n",
      " 33  CORE_COURSE_NAME_5_S      450 non-null    object \n",
      " 34  CORE_COURSE_GRADE_5_S     450 non-null    object \n",
      " 35  CORE_COURSE_NAME_6_S      81 non-null     object \n",
      " 36  CORE_COURSE_GRADE_6_S     81 non-null     object \n",
      " 37  HOUSING_STS               3400 non-null   object \n",
      " 38  RETURNED_2ND_YR           3400 non-null   int64  \n",
      " 39  DISTANCE_FROM_HOME        3375 non-null   float64\n",
      " 40  HIGH_SCHL_GPA             3347 non-null   float64\n",
      " 41  HIGH_SCHL_NAME            3399 non-null   object \n",
      " 42  FATHER_HI_EDU_CD          2968 non-null   float64\n",
      " 43  FATHER_HI_EDU_DESC        3400 non-null   object \n",
      " 44  MOTHER_HI_EDU_CD          2911 non-null   float64\n",
      " 45  MOTHER_HI_EDU_DESC        3400 non-null   object \n",
      " 46  DEGREE_GROUP_CD           3400 non-null   object \n",
      " 47  DEGREE_GROUP_DESC         3400 non-null   object \n",
      " 48  FIRST_TERM_ATTEMPT_HRS    3400 non-null   int64  \n",
      " 49  FIRST_TERM_EARNED_HRS     3400 non-null   int64  \n",
      " 50  SECOND_TERM_ATTEMPT_HRS   3194 non-null   float64\n",
      " 51  SECOND_TERM_EARNED_HRS    3191 non-null   float64\n",
      " 52  GROSS_FIN_NEED            3400 non-null   int64  \n",
      " 53  COST_OF_ATTEND            3400 non-null   int64  \n",
      " 54  EST_FAM_CONTRIBUTION      3400 non-null   int64  \n",
      " 55  UNMET_NEED                3400 non-null   float64\n",
      "dtypes: float64(10), int64(10), object(36)\n",
      "memory usage: 1.5+ MB\n"
     ]
    }
   ],
   "source": [
    "df.info()"
   ]
  },
  {
   "cell_type": "code",
   "execution_count": 7,
   "metadata": {},
   "outputs": [
    {
     "data": {
      "text/plain": [
       "STUDENT IDENTIFIER             0\n",
       "STDNT_AGE                      0\n",
       "STDNT_GENDER                   0\n",
       "STDNT_BACKGROUND               0\n",
       "IN_STATE_FLAG                  0\n",
       "INTERNATIONAL_STS              0\n",
       "STDNT_MAJOR                    0\n",
       "STDNT_MINOR                    0\n",
       "STDNT_TEST_ENTRANCE1        2294\n",
       "STDNT_TEST_ENTRANCE2         908\n",
       "STDNT_TEST_ENTRANCE_COMB     518\n",
       "FIRST_TERM                     0\n",
       "CORE_COURSE_NAME_1_F           0\n",
       "CORE_COURSE_GRADE_1_F          0\n",
       "CORE_COURSE_NAME_2_F          99\n",
       "CORE_COURSE_GRADE_2_F         99\n",
       "CORE_COURSE_NAME_3_F         565\n",
       "CORE_COURSE_GRADE_3_F        565\n",
       "CORE_COURSE_NAME_4_F        1597\n",
       "CORE_COURSE_GRADE_4_F       1597\n",
       "CORE_COURSE_NAME_5_F        2755\n",
       "CORE_COURSE_GRADE_5_F       2755\n",
       "CORE_COURSE_NAME_6_F        3272\n",
       "CORE_COURSE_GRADE_6_F       3272\n",
       "SECOND_TERM                    0\n",
       "CORE_COURSE_NAME_1_S         157\n",
       "CORE_COURSE_GRADE_1_S        232\n",
       "CORE_COURSE_NAME_2_S         439\n",
       "CORE_COURSE_GRADE_2_S        439\n",
       "CORE_COURSE_NAME_3_S        1038\n",
       "CORE_COURSE_GRADE_3_S       1038\n",
       "CORE_COURSE_NAME_4_S        2045\n",
       "CORE_COURSE_GRADE_4_S       2045\n",
       "CORE_COURSE_NAME_5_S        2950\n",
       "CORE_COURSE_GRADE_5_S       2950\n",
       "CORE_COURSE_NAME_6_S        3319\n",
       "CORE_COURSE_GRADE_6_S       3319\n",
       "HOUSING_STS                    0\n",
       "RETURNED_2ND_YR                0\n",
       "DISTANCE_FROM_HOME            25\n",
       "HIGH_SCHL_GPA                 53\n",
       "HIGH_SCHL_NAME                 1\n",
       "FATHER_HI_EDU_CD             432\n",
       "FATHER_HI_EDU_DESC             0\n",
       "MOTHER_HI_EDU_CD             489\n",
       "MOTHER_HI_EDU_DESC             0\n",
       "DEGREE_GROUP_CD                0\n",
       "DEGREE_GROUP_DESC              0\n",
       "FIRST_TERM_ATTEMPT_HRS         0\n",
       "FIRST_TERM_EARNED_HRS          0\n",
       "SECOND_TERM_ATTEMPT_HRS      206\n",
       "SECOND_TERM_EARNED_HRS       209\n",
       "GROSS_FIN_NEED                 0\n",
       "COST_OF_ATTEND                 0\n",
       "EST_FAM_CONTRIBUTION           0\n",
       "UNMET_NEED                     0\n",
       "dtype: int64"
      ]
     },
     "execution_count": 7,
     "metadata": {},
     "output_type": "execute_result"
    }
   ],
   "source": [
    "df.isnull().sum()"
   ]
  },
  {
   "cell_type": "code",
   "execution_count": 17,
   "metadata": {},
   "outputs": [
    {
     "data": {
      "text/plain": [
       "1    2677\n",
       "0     723\n",
       "Name: RETURNED_2ND_YR, dtype: int64"
      ]
     },
     "execution_count": 17,
     "metadata": {},
     "output_type": "execute_result"
    }
   ],
   "source": [
    "df['RETURNED_2ND_YR'].value_counts()"
   ]
  },
  {
   "cell_type": "code",
   "execution_count": 26,
   "metadata": {},
   "outputs": [],
   "source": [
    "### Creating target feature\n",
    "# RETURNED_2ND_YR\n",
    "\n",
    "#Create a new feature called attrition from the RETURNED_2ND_YR\n",
    "df['Attrition'] = df['RETURNED_2ND_YR']\n",
    "\n",
    "#dropping RETURNED_2ND_YR\n",
    "df.drop('RETURNED_2ND_YR', axis=1, inplace=True)"
   ]
  },
  {
   "cell_type": "code",
   "execution_count": 31,
   "metadata": {},
   "outputs": [],
   "source": [
    "#swapping 1&0 in Attrition, so 1 represents students who discontinued\n",
    "df['Attrition'] = df['Attrition'].apply(lambda x: 0 if x == 1 else 1)"
   ]
  },
  {
   "cell_type": "code",
   "execution_count": 32,
   "metadata": {},
   "outputs": [
    {
     "data": {
      "text/plain": [
       "0    2677\n",
       "1     723\n",
       "Name: Attrition, dtype: int64"
      ]
     },
     "execution_count": 32,
     "metadata": {},
     "output_type": "execute_result"
    }
   ],
   "source": [
    "df['Attrition'].value_counts()"
   ]
  },
  {
   "cell_type": "markdown",
   "metadata": {},
   "source": [
    "# EDA"
   ]
  },
  {
   "cell_type": "markdown",
   "metadata": {},
   "source": [
    "### Target - Attrition"
   ]
  },
  {
   "cell_type": "code",
   "execution_count": 33,
   "metadata": {},
   "outputs": [
    {
     "data": {
      "text/plain": [
       "0    2677\n",
       "1     723\n",
       "Name: Attrition, dtype: int64"
      ]
     },
     "execution_count": 33,
     "metadata": {},
     "output_type": "execute_result"
    }
   ],
   "source": [
    "df['Attrition'].value_counts()"
   ]
  },
  {
   "cell_type": "code",
   "execution_count": 35,
   "metadata": {},
   "outputs": [
    {
     "data": {
      "text/plain": [
       "0    0.787353\n",
       "1    0.212647\n",
       "Name: Attrition, dtype: float64"
      ]
     },
     "execution_count": 35,
     "metadata": {},
     "output_type": "execute_result"
    }
   ],
   "source": [
    "df['Attrition'].value_counts(normalize=True)\n",
    "\n",
    "#target is imbalance, we treat it in further process"
   ]
  },
  {
   "cell_type": "code",
   "execution_count": 50,
   "metadata": {},
   "outputs": [
    {
     "data": {
      "image/png": "[encoded data removed]",
      "text/plain": [
       "<Figure size 1152x504 with 2 Axes>"
      ]
     },
     "metadata": {
      "needs_background": "light"
     },
     "output_type": "display_data"
    }
   ],
   "source": [
    "plt.figure(figsize=(16,7))\n",
    "\n",
    "plt.subplot(1,2,1)\n",
    "sns.countplot(df['Attrition'])\n",
    "plt.title('Bar graph')\n",
    "\n",
    "plt.subplot(1,2,2)\n",
    "plt.pie(df['Attrition'].value_counts(),explode=[0.05,0], colors=[ 'lightskyblue', 'orange'], labels=['No', 'Yes'], autopct='%.2f%%')\n",
    "plt.title('Pie chart')\n",
    "\n",
    "plt.show()"
   ]
  },
  {
   "cell_type": "markdown",
   "metadata": {},
   "source": [
    "### STUDENT IDENTIFIERv"
   ]
  },
  {
   "cell_type": "code",
   "execution_count": 11,
   "metadata": {},
   "outputs": [
    {
     "data": {
      "text/plain": [
       "3400"
      ]
     },
     "execution_count": 11,
     "metadata": {},
     "output_type": "execute_result"
    }
   ],
   "source": [
    "df['STUDENT IDENTIFIER'].nunique()\n",
    "\n",
    "#There 3400 unique id's, unique id for each record.\n",
    "#Insignificant variable, we can remove this feature"
   ]
  },
  {
   "cell_type": "markdown",
   "metadata": {},
   "source": [
    "### STDNT_AGE"
   ]
  },
  {
   "cell_type": "code",
   "execution_count": 66,
   "metadata": {},
   "outputs": [
    {
     "data": {
      "text/plain": [
       "count    3400.000000\n",
       "mean       17.994118\n",
       "std         0.552052\n",
       "min        16.000000\n",
       "25%        18.000000\n",
       "50%        18.000000\n",
       "75%        18.000000\n",
       "max        26.000000\n",
       "Name: STDNT_AGE, dtype: float64"
      ]
     },
     "execution_count": 66,
     "metadata": {},
     "output_type": "execute_result"
    }
   ],
   "source": [
    "df['STDNT_AGE'].describe()\n",
    "\n",
    "#IQR method will be not possible because Q1, Q3, Q2 are same"
   ]
  },
  {
   "cell_type": "code",
   "execution_count": 12,
   "metadata": {},
   "outputs": [
    {
     "name": "stderr",
     "output_type": "stream",
     "text": [
      "C:\\Users\\thrarun\\anaconda3\\lib\\site-packages\\seaborn\\distributions.py:2551: FutureWarning: `distplot` is a deprecated function and will be removed in a future version. Please adapt your code to use either `displot` (a figure-level function with similar flexibility) or `histplot` (an axes-level function for histograms).\n",
      "  warnings.warn(msg, FutureWarning)\n"
     ]
    },
    {
     "data": {
      "text/plain": [
       "<AxesSubplot:xlabel='STDNT_AGE', ylabel='Density'>"
      ]
     },
     "execution_count": 12,
     "metadata": {},
     "output_type": "execute_result"
    },
    {
     "data": {
      "image/png": "[encoded data removed]",
      "text/plain": [
       "<Figure size 432x288 with 1 Axes>"
      ]
     },
     "metadata": {
      "needs_background": "light"
     },
     "output_type": "display_data"
    }
   ],
   "source": [
    "#distribution\n",
    "\n",
    "sns.distplot(df['STDNT_AGE'])"
   ]
  },
  {
   "cell_type": "code",
   "execution_count": 79,
   "metadata": {},
   "outputs": [
    {
     "data": {
      "image/png": "[encoded data removed]",
      "text/plain": [
       "<Figure size 1152x360 with 2 Axes>"
      ]
     },
     "metadata": {
      "needs_background": "light"
     },
     "output_type": "display_data"
    }
   ],
   "source": [
    "plt.figure(figsize=(16,5))\n",
    "\n",
    "plt.subplot(1,2,1)\n",
    "sns.histplot(df['STDNT_AGE'], binwidth=1)\n",
    "plt.xticks(ticks=np.arange(16.5,27.5,1) , labels=np.arange(16,27))\n",
    "plt.title('Count of Age group')\n",
    "\n",
    "plt.subplot(1,2,2)\n",
    "sns.histplot(data=df, x='STDNT_AGE', hue='Attrition', binwidth=1)\n",
    "plt.xticks(ticks=np.arange(16.5,27.5,1) , labels=np.arange(16,27))\n",
    "plt.title('Count of Age group w.r.t Attrition')\n",
    "plt.show()"
   ]
  },
  {
   "cell_type": "code",
   "execution_count": 80,
   "metadata": {},
   "outputs": [
    {
     "data": {
      "text/plain": [
       "<AxesSubplot:xlabel='STDNT_AGE'>"
      ]
     },
     "execution_count": 80,
     "metadata": {},
     "output_type": "execute_result"
    },
    {
     "data": {
      "image/png": "[encoded data removed]",
      "text/plain": [
       "<Figure size 432x288 with 1 Axes>"
      ]
     },
     "metadata": {
      "needs_background": "light"
     },
     "output_type": "display_data"
    }
   ],
   "source": [
    "#outliers in AGE group\n",
    "\n",
    "sns.boxplot(df['STDNT_AGE'])"
   ]
  },
  {
   "cell_type": "code",
   "execution_count": 83,
   "metadata": {},
   "outputs": [
    {
     "data": {
      "text/plain": [
       "18    2860\n",
       "17     309\n",
       "19     190\n",
       "20      14\n",
       "16       8\n",
       "21       7\n",
       "22       4\n",
       "25       3\n",
       "23       3\n",
       "26       1\n",
       "24       1\n",
       "Name: STDNT_AGE, dtype: int64"
      ]
     },
     "execution_count": 83,
     "metadata": {},
     "output_type": "execute_result"
    }
   ],
   "source": [
    "df['STDNT_AGE'].value_counts()\n"
   ]
  },
  {
   "cell_type": "markdown",
   "metadata": {},
   "source": [
    "### STDNT_GENDER"
   ]
  },
  {
   "cell_type": "code",
   "execution_count": 85,
   "metadata": {},
   "outputs": [
    {
     "data": {
      "text/plain": [
       "F    2140\n",
       "M    1260\n",
       "Name: STDNT_GENDER, dtype: int64"
      ]
     },
     "execution_count": 85,
     "metadata": {},
     "output_type": "execute_result"
    }
   ],
   "source": [
    "df['STDNT_GENDER'].value_counts()\n",
    "\n",
    "#Female students are more"
   ]
  },
  {
   "cell_type": "code",
   "execution_count": 125,
   "metadata": {},
   "outputs": [
    {
     "data": {
      "text/plain": [
       "F    62.941176\n",
       "M    37.058824\n",
       "Name: STDNT_GENDER, dtype: float64"
      ]
     },
     "execution_count": 125,
     "metadata": {},
     "output_type": "execute_result"
    }
   ],
   "source": [
    "df['STDNT_GENDER'].value_counts(normalize=True) * 100"
   ]
  },
  {
   "cell_type": "code",
   "execution_count": 89,
   "metadata": {},
   "outputs": [
    {
     "data": {
      "image/png": "[encoded data removed]",
      "text/plain": [
       "<Figure size 1152x504 with 3 Axes>"
      ]
     },
     "metadata": {
      "needs_background": "light"
     },
     "output_type": "display_data"
    }
   ],
   "source": [
    "plt.figure(figsize=(16,7))\n",
    "\n",
    "plt.subplot(1,3,1)\n",
    "sns.countplot(df['STDNT_GENDER'])\n",
    "plt.title('Bar graph')\n",
    "\n",
    "plt.subplot(1,3,2)\n",
    "plt.pie(df['STDNT_GENDER'].value_counts(),explode=[0.05,0], colors=[ 'lightskyblue', 'orange'], labels=['Female', 'Male'], autopct='%.2f%%')\n",
    "plt.title('Pie chart')\n",
    "\n",
    "plt.subplot(1,3,3)\n",
    "sns.countplot(df['STDNT_GENDER'], hue=df['Attrition'])\n",
    "\n",
    "plt.show()\n",
    "\n",
    "#Female tends to attrition compared to male"
   ]
  },
  {
   "cell_type": "markdown",
   "metadata": {},
   "source": [
    "### STDNT_BACKGROUND"
   ]
  },
  {
   "cell_type": "code",
   "execution_count": 90,
   "metadata": {},
   "outputs": [
    {
     "data": {
      "text/plain": [
       "BGD 1    2082\n",
       "BGD 3     947\n",
       "BGD 4     139\n",
       "BGD 2     106\n",
       "BGD 6      94\n",
       "BGD 7      19\n",
       "BGD 5       8\n",
       "BGD 8       5\n",
       "Name: STDNT_BACKGROUND, dtype: int64"
      ]
     },
     "execution_count": 90,
     "metadata": {},
     "output_type": "execute_result"
    }
   ],
   "source": [
    "df['STDNT_BACKGROUND'].value_counts()"
   ]
  },
  {
   "cell_type": "code",
   "execution_count": 93,
   "metadata": {},
   "outputs": [
    {
     "data": {
      "image/png": "[encoded data removed]",
      "text/plain": [
       "<Figure size 1152x432 with 2 Axes>"
      ]
     },
     "metadata": {
      "needs_background": "light"
     },
     "output_type": "display_data"
    }
   ],
   "source": [
    "plt.figure(figsize=(16,6))\n",
    "\n",
    "plt.subplot(1,2,1)\n",
    "sns.countplot(df['STDNT_BACKGROUND'])\n",
    "\n",
    "plt.subplot(1,2,2)\n",
    "sns.countplot(df['STDNT_BACKGROUND'], hue=df['Attrition'])\n",
    "plt.show()\n",
    "\n",
    "#more students are from BGD1 & more attrition is also from BGD1"
   ]
  },
  {
   "cell_type": "code",
   "execution_count": 101,
   "metadata": {},
   "outputs": [
    {
     "data": {
      "text/html": [
       "<div>\n",
       "<style scoped>\n",
       "    .dataframe tbody tr th:only-of-type {\n",
       "        vertical-align: middle;\n",
       "    }\n",
       "\n",
       "    .dataframe tbody tr th {\n",
       "        vertical-align: top;\n",
       "    }\n",
       "\n",
       "    .dataframe thead th {\n",
       "        text-align: right;\n",
       "    }\n",
       "</style>\n",
       "<table border=\"1\" class=\"dataframe\">\n",
       "  <thead>\n",
       "    <tr style=\"text-align: right;\">\n",
       "      <th>Attrition</th>\n",
       "      <th>0</th>\n",
       "      <th>1</th>\n",
       "    </tr>\n",
       "    <tr>\n",
       "      <th>STDNT_BACKGROUND</th>\n",
       "      <th></th>\n",
       "      <th></th>\n",
       "    </tr>\n",
       "  </thead>\n",
       "  <tbody>\n",
       "    <tr>\n",
       "      <th>BGD 1</th>\n",
       "      <td>1605</td>\n",
       "      <td>477</td>\n",
       "    </tr>\n",
       "    <tr>\n",
       "      <th>BGD 2</th>\n",
       "      <td>82</td>\n",
       "      <td>24</td>\n",
       "    </tr>\n",
       "    <tr>\n",
       "      <th>BGD 3</th>\n",
       "      <td>777</td>\n",
       "      <td>170</td>\n",
       "    </tr>\n",
       "    <tr>\n",
       "      <th>BGD 4</th>\n",
       "      <td>113</td>\n",
       "      <td>26</td>\n",
       "    </tr>\n",
       "    <tr>\n",
       "      <th>BGD 5</th>\n",
       "      <td>4</td>\n",
       "      <td>4</td>\n",
       "    </tr>\n",
       "    <tr>\n",
       "      <th>BGD 6</th>\n",
       "      <td>80</td>\n",
       "      <td>14</td>\n",
       "    </tr>\n",
       "    <tr>\n",
       "      <th>BGD 7</th>\n",
       "      <td>12</td>\n",
       "      <td>7</td>\n",
       "    </tr>\n",
       "    <tr>\n",
       "      <th>BGD 8</th>\n",
       "      <td>4</td>\n",
       "      <td>1</td>\n",
       "    </tr>\n",
       "  </tbody>\n",
       "</table>\n",
       "</div>"
      ],
      "text/plain": [
       "Attrition            0    1\n",
       "STDNT_BACKGROUND           \n",
       "BGD 1             1605  477\n",
       "BGD 2               82   24\n",
       "BGD 3              777  170\n",
       "BGD 4              113   26\n",
       "BGD 5                4    4\n",
       "BGD 6               80   14\n",
       "BGD 7               12    7\n",
       "BGD 8                4    1"
      ]
     },
     "execution_count": 101,
     "metadata": {},
     "output_type": "execute_result"
    }
   ],
   "source": [
    "pd.crosstab(index=df['STDNT_BACKGROUND'], columns=df['Attrition'])"
   ]
  },
  {
   "cell_type": "code",
   "execution_count": 100,
   "metadata": {},
   "outputs": [
    {
     "data": {
      "text/html": [
       "<div>\n",
       "<style scoped>\n",
       "    .dataframe tbody tr th:only-of-type {\n",
       "        vertical-align: middle;\n",
       "    }\n",
       "\n",
       "    .dataframe tbody tr th {\n",
       "        vertical-align: top;\n",
       "    }\n",
       "\n",
       "    .dataframe thead th {\n",
       "        text-align: right;\n",
       "    }\n",
       "</style>\n",
       "<table border=\"1\" class=\"dataframe\">\n",
       "  <thead>\n",
       "    <tr style=\"text-align: right;\">\n",
       "      <th>Attrition</th>\n",
       "      <th>0</th>\n",
       "      <th>1</th>\n",
       "    </tr>\n",
       "    <tr>\n",
       "      <th>STDNT_BACKGROUND</th>\n",
       "      <th></th>\n",
       "      <th></th>\n",
       "    </tr>\n",
       "  </thead>\n",
       "  <tbody>\n",
       "    <tr>\n",
       "      <th>BGD 1</th>\n",
       "      <td>0.770893</td>\n",
       "      <td>0.229107</td>\n",
       "    </tr>\n",
       "    <tr>\n",
       "      <th>BGD 2</th>\n",
       "      <td>0.773585</td>\n",
       "      <td>0.226415</td>\n",
       "    </tr>\n",
       "    <tr>\n",
       "      <th>BGD 3</th>\n",
       "      <td>0.820486</td>\n",
       "      <td>0.179514</td>\n",
       "    </tr>\n",
       "    <tr>\n",
       "      <th>BGD 4</th>\n",
       "      <td>0.812950</td>\n",
       "      <td>0.187050</td>\n",
       "    </tr>\n",
       "    <tr>\n",
       "      <th>BGD 5</th>\n",
       "      <td>0.500000</td>\n",
       "      <td>0.500000</td>\n",
       "    </tr>\n",
       "    <tr>\n",
       "      <th>BGD 6</th>\n",
       "      <td>0.851064</td>\n",
       "      <td>0.148936</td>\n",
       "    </tr>\n",
       "    <tr>\n",
       "      <th>BGD 7</th>\n",
       "      <td>0.631579</td>\n",
       "      <td>0.368421</td>\n",
       "    </tr>\n",
       "    <tr>\n",
       "      <th>BGD 8</th>\n",
       "      <td>0.800000</td>\n",
       "      <td>0.200000</td>\n",
       "    </tr>\n",
       "  </tbody>\n",
       "</table>\n",
       "</div>"
      ],
      "text/plain": [
       "Attrition                0         1\n",
       "STDNT_BACKGROUND                    \n",
       "BGD 1             0.770893  0.229107\n",
       "BGD 2             0.773585  0.226415\n",
       "BGD 3             0.820486  0.179514\n",
       "BGD 4             0.812950  0.187050\n",
       "BGD 5             0.500000  0.500000\n",
       "BGD 6             0.851064  0.148936\n",
       "BGD 7             0.631579  0.368421\n",
       "BGD 8             0.800000  0.200000"
      ]
     },
     "execution_count": 100,
     "metadata": {},
     "output_type": "execute_result"
    }
   ],
   "source": [
    "pd.crosstab(index=df['STDNT_BACKGROUND'], columns=df['Attrition'], normalize='index')"
   ]
  },
  {
   "cell_type": "code",
   "execution_count": 102,
   "metadata": {},
   "outputs": [],
   "source": [
    "df_yes = df[df['Attrition'] == 1]\n",
    "df_no = df[df['Attrition'] == 0]"
   ]
  },
  {
   "cell_type": "code",
   "execution_count": 103,
   "metadata": {},
   "outputs": [
    {
     "data": {
      "image/png": "[encoded data removed]",
      "text/plain": [
       "<Figure size 1152x432 with 2 Axes>"
      ]
     },
     "metadata": {
      "needs_background": "light"
     },
     "output_type": "display_data"
    }
   ],
   "source": [
    "plt.figure(figsize=(16,6))\n",
    "\n",
    "plt.subplot(1,2,1)\n",
    "sns.countplot(df_no['STDNT_BACKGROUND'], hue=df_no['STDNT_GENDER'])\n",
    "\n",
    "plt.subplot(1,2,2)\n",
    "sns.countplot(df_yes['STDNT_BACKGROUND'], hue=df_yes['STDNT_GENDER'])\n",
    "plt.show()\n",
    "\n",
    "#Gender vs Bckground vs target"
   ]
  },
  {
   "cell_type": "markdown",
   "metadata": {},
   "source": [
    "### IN_STATE_FLAG"
   ]
  },
  {
   "cell_type": "code",
   "execution_count": 104,
   "metadata": {},
   "outputs": [
    {
     "data": {
      "text/plain": [
       "Y    3063\n",
       "N     337\n",
       "Name: IN_STATE_FLAG, dtype: int64"
      ]
     },
     "execution_count": 104,
     "metadata": {},
     "output_type": "execute_result"
    }
   ],
   "source": [
    "df['IN_STATE_FLAG'].value_counts()"
   ]
  },
  {
   "cell_type": "code",
   "execution_count": 106,
   "metadata": {},
   "outputs": [
    {
     "data": {
      "text/plain": [
       "Y    90.088235\n",
       "N     9.911765\n",
       "Name: IN_STATE_FLAG, dtype: float64"
      ]
     },
     "execution_count": 106,
     "metadata": {},
     "output_type": "execute_result"
    }
   ],
   "source": [
    "df['IN_STATE_FLAG'].value_counts(normalize=True) * 100"
   ]
  },
  {
   "cell_type": "code",
   "execution_count": 110,
   "metadata": {},
   "outputs": [
    {
     "data": {
      "image/png": "[encoded data removed]",
      "text/plain": [
       "<Figure size 1152x504 with 3 Axes>"
      ]
     },
     "metadata": {
      "needs_background": "light"
     },
     "output_type": "display_data"
    }
   ],
   "source": [
    "plt.figure(figsize=(16,7))\n",
    "\n",
    "plt.subplot(1,3,1)\n",
    "sns.countplot(df['IN_STATE_FLAG'])\n",
    "plt.title('Bar graph')\n",
    "\n",
    "plt.subplot(1,3,2)\n",
    "plt.pie(df['IN_STATE_FLAG'].value_counts(),explode=[0.05,0], colors=[ 'lightskyblue', 'orange'], labels=['YES', 'NO'], autopct='%.2f%%')\n",
    "plt.title('Pie chart')\n",
    "\n",
    "plt.subplot(1,3,3)\n",
    "sns.countplot(df['IN_STATE_FLAG'], hue=df['Attrition'])\n",
    "\n",
    "plt.show()\n",
    "\n",
    "#many are from same state and many student have left the course"
   ]
  },
  {
   "cell_type": "code",
   "execution_count": 112,
   "metadata": {},
   "outputs": [
    {
     "data": {
      "text/html": [
       "<div>\n",
       "<style scoped>\n",
       "    .dataframe tbody tr th:only-of-type {\n",
       "        vertical-align: middle;\n",
       "    }\n",
       "\n",
       "    .dataframe tbody tr th {\n",
       "        vertical-align: top;\n",
       "    }\n",
       "\n",
       "    .dataframe thead th {\n",
       "        text-align: right;\n",
       "    }\n",
       "</style>\n",
       "<table border=\"1\" class=\"dataframe\">\n",
       "  <thead>\n",
       "    <tr style=\"text-align: right;\">\n",
       "      <th>Attrition</th>\n",
       "      <th>0</th>\n",
       "      <th>1</th>\n",
       "    </tr>\n",
       "    <tr>\n",
       "      <th>IN_STATE_FLAG</th>\n",
       "      <th></th>\n",
       "      <th></th>\n",
       "    </tr>\n",
       "  </thead>\n",
       "  <tbody>\n",
       "    <tr>\n",
       "      <th>N</th>\n",
       "      <td>0.735905</td>\n",
       "      <td>0.264095</td>\n",
       "    </tr>\n",
       "    <tr>\n",
       "      <th>Y</th>\n",
       "      <td>0.793013</td>\n",
       "      <td>0.206987</td>\n",
       "    </tr>\n",
       "  </tbody>\n",
       "</table>\n",
       "</div>"
      ],
      "text/plain": [
       "Attrition             0         1\n",
       "IN_STATE_FLAG                    \n",
       "N              0.735905  0.264095\n",
       "Y              0.793013  0.206987"
      ]
     },
     "execution_count": 112,
     "metadata": {},
     "output_type": "execute_result"
    }
   ],
   "source": [
    "pd.crosstab(df['IN_STATE_FLAG'], df['Attrition'], normalize='index')"
   ]
  },
  {
   "cell_type": "markdown",
   "metadata": {},
   "source": [
    "### INTERNATIONAL_STS"
   ]
  },
  {
   "cell_type": "code",
   "execution_count": 113,
   "metadata": {},
   "outputs": [
    {
     "data": {
      "text/plain": [
       "N    3373\n",
       "Y      27\n",
       "Name: INTERNATIONAL_STS, dtype: int64"
      ]
     },
     "execution_count": 113,
     "metadata": {},
     "output_type": "execute_result"
    }
   ],
   "source": [
    "df['INTERNATIONAL_STS'].value_counts()"
   ]
  },
  {
   "cell_type": "code",
   "execution_count": 115,
   "metadata": {},
   "outputs": [
    {
     "data": {
      "text/plain": [
       "N    99.205882\n",
       "Y     0.794118\n",
       "Name: INTERNATIONAL_STS, dtype: float64"
      ]
     },
     "execution_count": 115,
     "metadata": {},
     "output_type": "execute_result"
    }
   ],
   "source": [
    "df['INTERNATIONAL_STS'].value_counts(normalize=True) * 100\n",
    "\n",
    "#we can ignore this feature, but we can analyse with target once"
   ]
  },
  {
   "cell_type": "code",
   "execution_count": 116,
   "metadata": {},
   "outputs": [
    {
     "data": {
      "image/png": "[encoded data removed]",
      "text/plain": [
       "<Figure size 1152x504 with 3 Axes>"
      ]
     },
     "metadata": {
      "needs_background": "light"
     },
     "output_type": "display_data"
    }
   ],
   "source": [
    "plt.figure(figsize=(16,7))\n",
    "\n",
    "plt.subplot(1,3,1)\n",
    "sns.countplot(df['INTERNATIONAL_STS'])\n",
    "plt.title('Bar graph')\n",
    "\n",
    "plt.subplot(1,3,2)\n",
    "plt.pie(df['INTERNATIONAL_STS'].value_counts(),explode=[0.05,0], colors=[ 'lightskyblue', 'orange'], labels=['YES', 'NO'], autopct='%.2f%%')\n",
    "plt.title('Pie chart')\n",
    "\n",
    "plt.subplot(1,3,3)\n",
    "sns.countplot(df['INTERNATIONAL_STS'], hue=df['Attrition'])\n",
    "\n",
    "plt.show()\n",
    "\n",
    "#many are from same state and many student have left the course"
   ]
  },
  {
   "cell_type": "code",
   "execution_count": 117,
   "metadata": {},
   "outputs": [
    {
     "data": {
      "text/html": [
       "<div>\n",
       "<style scoped>\n",
       "    .dataframe tbody tr th:only-of-type {\n",
       "        vertical-align: middle;\n",
       "    }\n",
       "\n",
       "    .dataframe tbody tr th {\n",
       "        vertical-align: top;\n",
       "    }\n",
       "\n",
       "    .dataframe thead th {\n",
       "        text-align: right;\n",
       "    }\n",
       "</style>\n",
       "<table border=\"1\" class=\"dataframe\">\n",
       "  <thead>\n",
       "    <tr style=\"text-align: right;\">\n",
       "      <th>Attrition</th>\n",
       "      <th>0</th>\n",
       "      <th>1</th>\n",
       "    </tr>\n",
       "    <tr>\n",
       "      <th>INTERNATIONAL_STS</th>\n",
       "      <th></th>\n",
       "      <th></th>\n",
       "    </tr>\n",
       "  </thead>\n",
       "  <tbody>\n",
       "    <tr>\n",
       "      <th>N</th>\n",
       "      <td>2662</td>\n",
       "      <td>711</td>\n",
       "    </tr>\n",
       "    <tr>\n",
       "      <th>Y</th>\n",
       "      <td>15</td>\n",
       "      <td>12</td>\n",
       "    </tr>\n",
       "  </tbody>\n",
       "</table>\n",
       "</div>"
      ],
      "text/plain": [
       "Attrition             0    1\n",
       "INTERNATIONAL_STS           \n",
       "N                  2662  711\n",
       "Y                    15   12"
      ]
     },
     "execution_count": 117,
     "metadata": {},
     "output_type": "execute_result"
    }
   ],
   "source": [
    "pd.crosstab(df['INTERNATIONAL_STS'], df['Attrition'])"
   ]
  },
  {
   "cell_type": "markdown",
   "metadata": {},
   "source": [
    "### STDNT_MAJOR"
   ]
  },
  {
   "cell_type": "code",
   "execution_count": 118,
   "metadata": {},
   "outputs": [
    {
     "data": {
      "text/plain": [
       "0"
      ]
     },
     "execution_count": 118,
     "metadata": {},
     "output_type": "execute_result"
    }
   ],
   "source": [
    "df['STDNT_MAJOR'].isnull().sum()"
   ]
  },
  {
   "cell_type": "code",
   "execution_count": 126,
   "metadata": {},
   "outputs": [
    {
     "data": {
      "text/plain": [
       "Undeclared                        460\n",
       "Biology                           362\n",
       "Early Childhood Education         190\n",
       "Pre-Nursing                       177\n",
       "Nursing                           164\n",
       "Psychology                        155\n",
       "Pre-Business                      133\n",
       "Theatre Arts                      131\n",
       "Music Performance                  99\n",
       "Criminal Justice                   98\n",
       "Music Education                    96\n",
       "General Business                   85\n",
       "Exercise Science                   81\n",
       "Art                                75\n",
       "Management                         72\n",
       "Communication                      70\n",
       "Political Science                  64\n",
       "Chemistry                          64\n",
       "English Language/Literature        60\n",
       "Engineering Studies                60\n",
       "Marketing                          59\n",
       "Computer Science - Systems         58\n",
       "Accounting                         54\n",
       "Health Science                     48\n",
       "Computer Science - Games           40\n",
       "Joint Enrollment - Accel           35\n",
       "History                            33\n",
       "Applied Computer Science           32\n",
       "Theatre Education                  29\n",
       "English and Secondary Ed           28\n",
       "History and Secondary Ed           27\n",
       "Pre-Engineering/RETP               27\n",
       "Mathematics                        26\n",
       "Finance                            24\n",
       "Management Information Systems     21\n",
       "Health and Physical Education      20\n",
       "Sociology                          20\n",
       "Music                              17\n",
       "Middle Grades Education            17\n",
       "Spec Ed: Gen. Curr. - Reading      13\n",
       "General Studies/AS                 12\n",
       "Mathematics and Secondary Ed       11\n",
       "Information Technology             10\n",
       "Art Education                       9\n",
       "Spanish                             5\n",
       "Biology and Secondary Ed            5\n",
       "French with Teacher Cert            4\n",
       "Spanish with Teacher Cert           4\n",
       "Geology                             4\n",
       "French                              4\n",
       "Early Admission - Accel             3\n",
       "Chemistry and Secondary Ed          2\n",
       "Earth and Space Science             2\n",
       "Liberal Arts                        1\n",
       "Name: STDNT_MAJOR, dtype: int64"
      ]
     },
     "execution_count": 126,
     "metadata": {},
     "output_type": "execute_result"
    }
   ],
   "source": [
    "df['STDNT_MAJOR'].value_counts()\n",
    "\n",
    "#Many of the students have not declared there majir subject, "
   ]
  },
  {
   "cell_type": "code",
   "execution_count": 121,
   "metadata": {},
   "outputs": [
    {
     "data": {
      "text/html": [
       "<div>\n",
       "<style scoped>\n",
       "    .dataframe tbody tr th:only-of-type {\n",
       "        vertical-align: middle;\n",
       "    }\n",
       "\n",
       "    .dataframe tbody tr th {\n",
       "        vertical-align: top;\n",
       "    }\n",
       "\n",
       "    .dataframe thead th {\n",
       "        text-align: right;\n",
       "    }\n",
       "</style>\n",
       "<table border=\"1\" class=\"dataframe\">\n",
       "  <thead>\n",
       "    <tr style=\"text-align: right;\">\n",
       "      <th>Attrition</th>\n",
       "      <th>0</th>\n",
       "      <th>1</th>\n",
       "    </tr>\n",
       "    <tr>\n",
       "      <th>STDNT_MAJOR</th>\n",
       "      <th></th>\n",
       "      <th></th>\n",
       "    </tr>\n",
       "  </thead>\n",
       "  <tbody>\n",
       "    <tr>\n",
       "      <th>Accounting</th>\n",
       "      <td>42</td>\n",
       "      <td>12</td>\n",
       "    </tr>\n",
       "    <tr>\n",
       "      <th>Applied Computer Science</th>\n",
       "      <td>27</td>\n",
       "      <td>5</td>\n",
       "    </tr>\n",
       "    <tr>\n",
       "      <th>Art</th>\n",
       "      <td>57</td>\n",
       "      <td>18</td>\n",
       "    </tr>\n",
       "    <tr>\n",
       "      <th>Art Education</th>\n",
       "      <td>7</td>\n",
       "      <td>2</td>\n",
       "    </tr>\n",
       "    <tr>\n",
       "      <th>Biology</th>\n",
       "      <td>280</td>\n",
       "      <td>82</td>\n",
       "    </tr>\n",
       "    <tr>\n",
       "      <th>Biology and Secondary Ed</th>\n",
       "      <td>2</td>\n",
       "      <td>3</td>\n",
       "    </tr>\n",
       "    <tr>\n",
       "      <th>Chemistry</th>\n",
       "      <td>54</td>\n",
       "      <td>10</td>\n",
       "    </tr>\n",
       "    <tr>\n",
       "      <th>Chemistry and Secondary Ed</th>\n",
       "      <td>2</td>\n",
       "      <td>0</td>\n",
       "    </tr>\n",
       "    <tr>\n",
       "      <th>Communication</th>\n",
       "      <td>56</td>\n",
       "      <td>14</td>\n",
       "    </tr>\n",
       "    <tr>\n",
       "      <th>Computer Science - Games</th>\n",
       "      <td>26</td>\n",
       "      <td>14</td>\n",
       "    </tr>\n",
       "    <tr>\n",
       "      <th>Computer Science - Systems</th>\n",
       "      <td>49</td>\n",
       "      <td>9</td>\n",
       "    </tr>\n",
       "    <tr>\n",
       "      <th>Criminal Justice</th>\n",
       "      <td>69</td>\n",
       "      <td>29</td>\n",
       "    </tr>\n",
       "    <tr>\n",
       "      <th>Early Admission - Accel</th>\n",
       "      <td>3</td>\n",
       "      <td>0</td>\n",
       "    </tr>\n",
       "    <tr>\n",
       "      <th>Early Childhood Education</th>\n",
       "      <td>153</td>\n",
       "      <td>37</td>\n",
       "    </tr>\n",
       "    <tr>\n",
       "      <th>Earth and Space Science</th>\n",
       "      <td>1</td>\n",
       "      <td>1</td>\n",
       "    </tr>\n",
       "    <tr>\n",
       "      <th>Engineering Studies</th>\n",
       "      <td>45</td>\n",
       "      <td>15</td>\n",
       "    </tr>\n",
       "    <tr>\n",
       "      <th>English Language/Literature</th>\n",
       "      <td>51</td>\n",
       "      <td>9</td>\n",
       "    </tr>\n",
       "    <tr>\n",
       "      <th>English and Secondary Ed</th>\n",
       "      <td>24</td>\n",
       "      <td>4</td>\n",
       "    </tr>\n",
       "    <tr>\n",
       "      <th>Exercise Science</th>\n",
       "      <td>62</td>\n",
       "      <td>19</td>\n",
       "    </tr>\n",
       "    <tr>\n",
       "      <th>Finance</th>\n",
       "      <td>16</td>\n",
       "      <td>8</td>\n",
       "    </tr>\n",
       "    <tr>\n",
       "      <th>French</th>\n",
       "      <td>3</td>\n",
       "      <td>1</td>\n",
       "    </tr>\n",
       "    <tr>\n",
       "      <th>French with Teacher Cert</th>\n",
       "      <td>3</td>\n",
       "      <td>1</td>\n",
       "    </tr>\n",
       "    <tr>\n",
       "      <th>General Business</th>\n",
       "      <td>73</td>\n",
       "      <td>12</td>\n",
       "    </tr>\n",
       "    <tr>\n",
       "      <th>General Studies/AS</th>\n",
       "      <td>10</td>\n",
       "      <td>2</td>\n",
       "    </tr>\n",
       "    <tr>\n",
       "      <th>Geology</th>\n",
       "      <td>4</td>\n",
       "      <td>0</td>\n",
       "    </tr>\n",
       "    <tr>\n",
       "      <th>Health Science</th>\n",
       "      <td>42</td>\n",
       "      <td>6</td>\n",
       "    </tr>\n",
       "    <tr>\n",
       "      <th>Health and Physical Education</th>\n",
       "      <td>15</td>\n",
       "      <td>5</td>\n",
       "    </tr>\n",
       "    <tr>\n",
       "      <th>History</th>\n",
       "      <td>25</td>\n",
       "      <td>8</td>\n",
       "    </tr>\n",
       "    <tr>\n",
       "      <th>History and Secondary Ed</th>\n",
       "      <td>20</td>\n",
       "      <td>7</td>\n",
       "    </tr>\n",
       "    <tr>\n",
       "      <th>Information Technology</th>\n",
       "      <td>7</td>\n",
       "      <td>3</td>\n",
       "    </tr>\n",
       "    <tr>\n",
       "      <th>Joint Enrollment - Accel</th>\n",
       "      <td>35</td>\n",
       "      <td>0</td>\n",
       "    </tr>\n",
       "    <tr>\n",
       "      <th>Liberal Arts</th>\n",
       "      <td>1</td>\n",
       "      <td>0</td>\n",
       "    </tr>\n",
       "    <tr>\n",
       "      <th>Management</th>\n",
       "      <td>57</td>\n",
       "      <td>15</td>\n",
       "    </tr>\n",
       "    <tr>\n",
       "      <th>Management Information Systems</th>\n",
       "      <td>14</td>\n",
       "      <td>7</td>\n",
       "    </tr>\n",
       "    <tr>\n",
       "      <th>Marketing</th>\n",
       "      <td>44</td>\n",
       "      <td>15</td>\n",
       "    </tr>\n",
       "    <tr>\n",
       "      <th>Mathematics</th>\n",
       "      <td>20</td>\n",
       "      <td>6</td>\n",
       "    </tr>\n",
       "    <tr>\n",
       "      <th>Mathematics and Secondary Ed</th>\n",
       "      <td>10</td>\n",
       "      <td>1</td>\n",
       "    </tr>\n",
       "    <tr>\n",
       "      <th>Middle Grades Education</th>\n",
       "      <td>14</td>\n",
       "      <td>3</td>\n",
       "    </tr>\n",
       "    <tr>\n",
       "      <th>Music</th>\n",
       "      <td>11</td>\n",
       "      <td>6</td>\n",
       "    </tr>\n",
       "    <tr>\n",
       "      <th>Music Education</th>\n",
       "      <td>88</td>\n",
       "      <td>8</td>\n",
       "    </tr>\n",
       "    <tr>\n",
       "      <th>Music Performance</th>\n",
       "      <td>87</td>\n",
       "      <td>12</td>\n",
       "    </tr>\n",
       "    <tr>\n",
       "      <th>Nursing</th>\n",
       "      <td>127</td>\n",
       "      <td>37</td>\n",
       "    </tr>\n",
       "    <tr>\n",
       "      <th>Political Science</th>\n",
       "      <td>50</td>\n",
       "      <td>14</td>\n",
       "    </tr>\n",
       "    <tr>\n",
       "      <th>Pre-Business</th>\n",
       "      <td>101</td>\n",
       "      <td>32</td>\n",
       "    </tr>\n",
       "    <tr>\n",
       "      <th>Pre-Engineering/RETP</th>\n",
       "      <td>20</td>\n",
       "      <td>7</td>\n",
       "    </tr>\n",
       "    <tr>\n",
       "      <th>Pre-Nursing</th>\n",
       "      <td>130</td>\n",
       "      <td>47</td>\n",
       "    </tr>\n",
       "    <tr>\n",
       "      <th>Psychology</th>\n",
       "      <td>112</td>\n",
       "      <td>43</td>\n",
       "    </tr>\n",
       "    <tr>\n",
       "      <th>Sociology</th>\n",
       "      <td>16</td>\n",
       "      <td>4</td>\n",
       "    </tr>\n",
       "    <tr>\n",
       "      <th>Spanish</th>\n",
       "      <td>5</td>\n",
       "      <td>0</td>\n",
       "    </tr>\n",
       "    <tr>\n",
       "      <th>Spanish with Teacher Cert</th>\n",
       "      <td>3</td>\n",
       "      <td>1</td>\n",
       "    </tr>\n",
       "    <tr>\n",
       "      <th>Spec Ed: Gen. Curr. - Reading</th>\n",
       "      <td>10</td>\n",
       "      <td>3</td>\n",
       "    </tr>\n",
       "    <tr>\n",
       "      <th>Theatre Arts</th>\n",
       "      <td>119</td>\n",
       "      <td>12</td>\n",
       "    </tr>\n",
       "    <tr>\n",
       "      <th>Theatre Education</th>\n",
       "      <td>26</td>\n",
       "      <td>3</td>\n",
       "    </tr>\n",
       "    <tr>\n",
       "      <th>Undeclared</th>\n",
       "      <td>349</td>\n",
       "      <td>111</td>\n",
       "    </tr>\n",
       "  </tbody>\n",
       "</table>\n",
       "</div>"
      ],
      "text/plain": [
       "Attrition                         0    1\n",
       "STDNT_MAJOR                             \n",
       "Accounting                       42   12\n",
       "Applied Computer Science         27    5\n",
       "Art                              57   18\n",
       "Art Education                     7    2\n",
       "Biology                         280   82\n",
       "Biology and Secondary Ed          2    3\n",
       "Chemistry                        54   10\n",
       "Chemistry and Secondary Ed        2    0\n",
       "Communication                    56   14\n",
       "Computer Science - Games         26   14\n",
       "Computer Science - Systems       49    9\n",
       "Criminal Justice                 69   29\n",
       "Early Admission - Accel           3    0\n",
       "Early Childhood Education       153   37\n",
       "Earth and Space Science           1    1\n",
       "Engineering Studies              45   15\n",
       "English Language/Literature      51    9\n",
       "English and Secondary Ed         24    4\n",
       "Exercise Science                 62   19\n",
       "Finance                          16    8\n",
       "French                            3    1\n",
       "French with Teacher Cert          3    1\n",
       "General Business                 73   12\n",
       "General Studies/AS               10    2\n",
       "Geology                           4    0\n",
       "Health Science                   42    6\n",
       "Health and Physical Education    15    5\n",
       "History                          25    8\n",
       "History and Secondary Ed         20    7\n",
       "Information Technology            7    3\n",
       "Joint Enrollment - Accel         35    0\n",
       "Liberal Arts                      1    0\n",
       "Management                       57   15\n",
       "Management Information Systems   14    7\n",
       "Marketing                        44   15\n",
       "Mathematics                      20    6\n",
       "Mathematics and Secondary Ed     10    1\n",
       "Middle Grades Education          14    3\n",
       "Music                            11    6\n",
       "Music Education                  88    8\n",
       "Music Performance                87   12\n",
       "Nursing                         127   37\n",
       "Political Science                50   14\n",
       "Pre-Business                    101   32\n",
       "Pre-Engineering/RETP             20    7\n",
       "Pre-Nursing                     130   47\n",
       "Psychology                      112   43\n",
       "Sociology                        16    4\n",
       "Spanish                           5    0\n",
       "Spanish with Teacher Cert         3    1\n",
       "Spec Ed: Gen. Curr. - Reading    10    3\n",
       "Theatre Arts                    119   12\n",
       "Theatre Education                26    3\n",
       "Undeclared                      349  111"
      ]
     },
     "execution_count": 121,
     "metadata": {},
     "output_type": "execute_result"
    }
   ],
   "source": [
    "pd.crosstab(df['STDNT_MAJOR'], df['Attrition'])"
   ]
  },
  {
   "cell_type": "markdown",
   "metadata": {},
   "source": [
    "### STDNT_MINOR"
   ]
  },
  {
   "cell_type": "code",
   "execution_count": 130,
   "metadata": {},
   "outputs": [
    {
     "data": {
      "text/plain": [
       "N                                92.941176\n",
       "Spanish                           0.764706\n",
       "Psychology                        0.558824\n",
       "Music                             0.558824\n",
       "Foundations of Business           0.441176\n",
       "Communication                     0.411765\n",
       "History                           0.382353\n",
       "Theatre Arts                      0.352941\n",
       "Criminal Justice                  0.352941\n",
       "Computer Science - Systems        0.294118\n",
       "Early Childhood Education         0.264706\n",
       "Mathematics                       0.205882\n",
       "Marketing                         0.176471\n",
       "Art History                       0.176471\n",
       "Professional Writing              0.176471\n",
       "Art                               0.147059\n",
       "Sociology                         0.147059\n",
       "English Language/Literature       0.147059\n",
       "Accounting                        0.117647\n",
       "Biology                           0.117647\n",
       "Chemistry                         0.117647\n",
       "French                            0.117647\n",
       "Political Science                 0.117647\n",
       "Health Science                    0.088235\n",
       "International Business            0.088235\n",
       "Exercise Science                  0.088235\n",
       "Economics                         0.088235\n",
       "Computer Info. Management         0.088235\n",
       "Military Sci & Adv Leadership     0.058824\n",
       "Management                        0.058824\n",
       "Asian Studies                     0.058824\n",
       "Anthropology                      0.058824\n",
       "Philosophy                        0.058824\n",
       "African Studies                   0.058824\n",
       "Creative Writing                  0.058824\n",
       "Finance                           0.029412\n",
       "Women's Studies                   0.029412\n",
       "Name: STDNT_MINOR, dtype: float64"
      ]
     },
     "execution_count": 130,
     "metadata": {},
     "output_type": "execute_result"
    }
   ],
   "source": [
    "df['STDNT_MINOR'].value_counts(normalize=True) * 100\n",
    "\n",
    "#93% students have no minor subject"
   ]
  },
  {
   "cell_type": "code",
   "execution_count": 131,
   "metadata": {},
   "outputs": [
    {
     "data": {
      "text/html": [
       "<div>\n",
       "<style scoped>\n",
       "    .dataframe tbody tr th:only-of-type {\n",
       "        vertical-align: middle;\n",
       "    }\n",
       "\n",
       "    .dataframe tbody tr th {\n",
       "        vertical-align: top;\n",
       "    }\n",
       "\n",
       "    .dataframe thead th {\n",
       "        text-align: right;\n",
       "    }\n",
       "</style>\n",
       "<table border=\"1\" class=\"dataframe\">\n",
       "  <thead>\n",
       "    <tr style=\"text-align: right;\">\n",
       "      <th>Attrition</th>\n",
       "      <th>0</th>\n",
       "      <th>1</th>\n",
       "    </tr>\n",
       "    <tr>\n",
       "      <th>STDNT_MINOR</th>\n",
       "      <th></th>\n",
       "      <th></th>\n",
       "    </tr>\n",
       "  </thead>\n",
       "  <tbody>\n",
       "    <tr>\n",
       "      <th>Accounting</th>\n",
       "      <td>3</td>\n",
       "      <td>1</td>\n",
       "    </tr>\n",
       "    <tr>\n",
       "      <th>African Studies</th>\n",
       "      <td>2</td>\n",
       "      <td>0</td>\n",
       "    </tr>\n",
       "    <tr>\n",
       "      <th>Anthropology</th>\n",
       "      <td>2</td>\n",
       "      <td>0</td>\n",
       "    </tr>\n",
       "    <tr>\n",
       "      <th>Art</th>\n",
       "      <td>3</td>\n",
       "      <td>2</td>\n",
       "    </tr>\n",
       "    <tr>\n",
       "      <th>Art History</th>\n",
       "      <td>4</td>\n",
       "      <td>2</td>\n",
       "    </tr>\n",
       "    <tr>\n",
       "      <th>Asian Studies</th>\n",
       "      <td>2</td>\n",
       "      <td>0</td>\n",
       "    </tr>\n",
       "    <tr>\n",
       "      <th>Biology</th>\n",
       "      <td>3</td>\n",
       "      <td>1</td>\n",
       "    </tr>\n",
       "    <tr>\n",
       "      <th>Chemistry</th>\n",
       "      <td>4</td>\n",
       "      <td>0</td>\n",
       "    </tr>\n",
       "    <tr>\n",
       "      <th>Communication</th>\n",
       "      <td>13</td>\n",
       "      <td>1</td>\n",
       "    </tr>\n",
       "    <tr>\n",
       "      <th>Computer Info. Management</th>\n",
       "      <td>3</td>\n",
       "      <td>0</td>\n",
       "    </tr>\n",
       "    <tr>\n",
       "      <th>Computer Science - Systems</th>\n",
       "      <td>8</td>\n",
       "      <td>2</td>\n",
       "    </tr>\n",
       "    <tr>\n",
       "      <th>Creative Writing</th>\n",
       "      <td>1</td>\n",
       "      <td>1</td>\n",
       "    </tr>\n",
       "    <tr>\n",
       "      <th>Criminal Justice</th>\n",
       "      <td>8</td>\n",
       "      <td>4</td>\n",
       "    </tr>\n",
       "    <tr>\n",
       "      <th>Early Childhood Education</th>\n",
       "      <td>7</td>\n",
       "      <td>2</td>\n",
       "    </tr>\n",
       "    <tr>\n",
       "      <th>Economics</th>\n",
       "      <td>2</td>\n",
       "      <td>1</td>\n",
       "    </tr>\n",
       "    <tr>\n",
       "      <th>English Language/Literature</th>\n",
       "      <td>1</td>\n",
       "      <td>4</td>\n",
       "    </tr>\n",
       "    <tr>\n",
       "      <th>Exercise Science</th>\n",
       "      <td>2</td>\n",
       "      <td>1</td>\n",
       "    </tr>\n",
       "    <tr>\n",
       "      <th>Finance</th>\n",
       "      <td>1</td>\n",
       "      <td>0</td>\n",
       "    </tr>\n",
       "    <tr>\n",
       "      <th>Foundations of Business</th>\n",
       "      <td>13</td>\n",
       "      <td>2</td>\n",
       "    </tr>\n",
       "    <tr>\n",
       "      <th>French</th>\n",
       "      <td>3</td>\n",
       "      <td>1</td>\n",
       "    </tr>\n",
       "    <tr>\n",
       "      <th>Health Science</th>\n",
       "      <td>3</td>\n",
       "      <td>0</td>\n",
       "    </tr>\n",
       "    <tr>\n",
       "      <th>History</th>\n",
       "      <td>11</td>\n",
       "      <td>2</td>\n",
       "    </tr>\n",
       "    <tr>\n",
       "      <th>International Business</th>\n",
       "      <td>3</td>\n",
       "      <td>0</td>\n",
       "    </tr>\n",
       "    <tr>\n",
       "      <th>Management</th>\n",
       "      <td>2</td>\n",
       "      <td>0</td>\n",
       "    </tr>\n",
       "    <tr>\n",
       "      <th>Marketing</th>\n",
       "      <td>5</td>\n",
       "      <td>1</td>\n",
       "    </tr>\n",
       "    <tr>\n",
       "      <th>Mathematics</th>\n",
       "      <td>7</td>\n",
       "      <td>0</td>\n",
       "    </tr>\n",
       "    <tr>\n",
       "      <th>Military Sci &amp; Adv Leadership</th>\n",
       "      <td>1</td>\n",
       "      <td>1</td>\n",
       "    </tr>\n",
       "    <tr>\n",
       "      <th>Music</th>\n",
       "      <td>16</td>\n",
       "      <td>3</td>\n",
       "    </tr>\n",
       "    <tr>\n",
       "      <th>N</th>\n",
       "      <td>2485</td>\n",
       "      <td>675</td>\n",
       "    </tr>\n",
       "    <tr>\n",
       "      <th>Philosophy</th>\n",
       "      <td>2</td>\n",
       "      <td>0</td>\n",
       "    </tr>\n",
       "    <tr>\n",
       "      <th>Political Science</th>\n",
       "      <td>3</td>\n",
       "      <td>1</td>\n",
       "    </tr>\n",
       "    <tr>\n",
       "      <th>Professional Writing</th>\n",
       "      <td>6</td>\n",
       "      <td>0</td>\n",
       "    </tr>\n",
       "    <tr>\n",
       "      <th>Psychology</th>\n",
       "      <td>14</td>\n",
       "      <td>5</td>\n",
       "    </tr>\n",
       "    <tr>\n",
       "      <th>Sociology</th>\n",
       "      <td>3</td>\n",
       "      <td>2</td>\n",
       "    </tr>\n",
       "    <tr>\n",
       "      <th>Spanish</th>\n",
       "      <td>22</td>\n",
       "      <td>4</td>\n",
       "    </tr>\n",
       "    <tr>\n",
       "      <th>Theatre Arts</th>\n",
       "      <td>9</td>\n",
       "      <td>3</td>\n",
       "    </tr>\n",
       "    <tr>\n",
       "      <th>Women's Studies</th>\n",
       "      <td>0</td>\n",
       "      <td>1</td>\n",
       "    </tr>\n",
       "  </tbody>\n",
       "</table>\n",
       "</div>"
      ],
      "text/plain": [
       "Attrition                         0    1\n",
       "STDNT_MINOR                             \n",
       "Accounting                        3    1\n",
       "African Studies                   2    0\n",
       "Anthropology                      2    0\n",
       "Art                               3    2\n",
       "Art History                       4    2\n",
       "Asian Studies                     2    0\n",
       "Biology                           3    1\n",
       "Chemistry                         4    0\n",
       "Communication                    13    1\n",
       "Computer Info. Management         3    0\n",
       "Computer Science - Systems        8    2\n",
       "Creative Writing                  1    1\n",
       "Criminal Justice                  8    4\n",
       "Early Childhood Education         7    2\n",
       "Economics                         2    1\n",
       "English Language/Literature       1    4\n",
       "Exercise Science                  2    1\n",
       "Finance                           1    0\n",
       "Foundations of Business          13    2\n",
       "French                            3    1\n",
       "Health Science                    3    0\n",
       "History                          11    2\n",
       "International Business            3    0\n",
       "Management                        2    0\n",
       "Marketing                         5    1\n",
       "Mathematics                       7    0\n",
       "Military Sci & Adv Leadership     1    1\n",
       "Music                            16    3\n",
       "N                              2485  675\n",
       "Philosophy                        2    0\n",
       "Political Science                 3    1\n",
       "Professional Writing              6    0\n",
       "Psychology                       14    5\n",
       "Sociology                         3    2\n",
       "Spanish                          22    4\n",
       "Theatre Arts                      9    3\n",
       "Women's Studies                   0    1"
      ]
     },
     "execution_count": 131,
     "metadata": {},
     "output_type": "execute_result"
    }
   ],
   "source": [
    "pd.crosstab(df['STDNT_MINOR'], df['Attrition'])\n",
    "\n",
    "#we can remove this feature"
   ]
  },
  {
   "cell_type": "markdown",
   "metadata": {},
   "source": [
    "### ENtrance test"
   ]
  },
  {
   "cell_type": "code",
   "execution_count": 133,
   "metadata": {},
   "outputs": [
    {
     "data": {
      "text/plain": [
       "STDNT_TEST_ENTRANCE1        2294\n",
       "STDNT_TEST_ENTRANCE2         908\n",
       "STDNT_TEST_ENTRANCE_COMB     518\n",
       "dtype: int64"
      ]
     },
     "execution_count": 133,
     "metadata": {},
     "output_type": "execute_result"
    }
   ],
   "source": [
    "df[['STDNT_TEST_ENTRANCE1', 'STDNT_TEST_ENTRANCE2','STDNT_TEST_ENTRANCE_COMB']].isnull().sum()\n",
    "\n",
    "#we can consider combined entrance marks"
   ]
  },
  {
   "cell_type": "code",
   "execution_count": 134,
   "metadata": {},
   "outputs": [
    {
     "data": {
      "text/plain": [
       "<AxesSubplot:xlabel='STDNT_TEST_ENTRANCE_COMB', ylabel='Density'>"
      ]
     },
     "execution_count": 134,
     "metadata": {},
     "output_type": "execute_result"
    },
    {
     "data": {
      "image/png": "[encoded data removed]",
      "text/plain": [
       "<Figure size 432x288 with 1 Axes>"
      ]
     },
     "metadata": {
      "needs_background": "light"
     },
     "output_type": "display_data"
    }
   ],
   "source": [
    "sns.distplot(df['STDNT_TEST_ENTRANCE_COMB'])"
   ]
  },
  {
   "cell_type": "code",
   "execution_count": 136,
   "metadata": {},
   "outputs": [
    {
     "data": {
      "image/png": "[encoded data removed]",
      "text/plain": [
       "<Figure size 1152x360 with 2 Axes>"
      ]
     },
     "metadata": {
      "needs_background": "light"
     },
     "output_type": "display_data"
    }
   ],
   "source": [
    "plt.figure(figsize=(16,5))\n",
    "\n",
    "plt.subplot(1,2,1)\n",
    "sns.histplot(df['STDNT_TEST_ENTRANCE_COMB'])\n",
    "plt.title('Count of STDNT_TEST_ENTRANCE_COMB group')\n",
    "\n",
    "plt.subplot(1,2,2)\n",
    "sns.histplot(data=df, x='STDNT_TEST_ENTRANCE_COMB', hue='Attrition')\n",
    "plt.title('Count of STDNT_TEST_ENTRANCE_COMB group w.r.t Attrition')\n",
    "plt.show()"
   ]
  },
  {
   "cell_type": "code",
   "execution_count": 139,
   "metadata": {},
   "outputs": [
    {
     "data": {
      "image/png": "[encoded data removed]",
      "text/plain": [
       "<Figure size 432x288 with 1 Axes>"
      ]
     },
     "metadata": {
      "needs_background": "light"
     },
     "output_type": "display_data"
    }
   ],
   "source": [
    "#For null values we can impute mean, data is normal\n",
    "\n",
    "sns.boxplot(df['STDNT_TEST_ENTRANCE_COMB'])\n",
    "plt.show()\n",
    "#we can use IQR technique to remove outliers"
   ]
  },
  {
   "cell_type": "markdown",
   "metadata": {},
   "source": [
    "### First term"
   ]
  },
  {
   "cell_type": "code",
   "execution_count": 142,
   "metadata": {},
   "outputs": [
    {
     "data": {
      "text/plain": [
       "(200508, 201008)"
      ]
     },
     "execution_count": 142,
     "metadata": {},
     "output_type": "execute_result"
    }
   ],
   "source": [
    "df['FIRST_TERM'].min(), df['FIRST_TERM'].max()\n",
    "\n",
    "#Data consists of 6years, 2005 to 2010\n",
    "#we can convert it to year feature and then label encode it"
   ]
  },
  {
   "cell_type": "code",
   "execution_count": 144,
   "metadata": {},
   "outputs": [
    {
     "data": {
      "text/html": [
       "<div>\n",
       "<style scoped>\n",
       "    .dataframe tbody tr th:only-of-type {\n",
       "        vertical-align: middle;\n",
       "    }\n",
       "\n",
       "    .dataframe tbody tr th {\n",
       "        vertical-align: top;\n",
       "    }\n",
       "\n",
       "    .dataframe thead th {\n",
       "        text-align: right;\n",
       "    }\n",
       "</style>\n",
       "<table border=\"1\" class=\"dataframe\">\n",
       "  <thead>\n",
       "    <tr style=\"text-align: right;\">\n",
       "      <th></th>\n",
       "      <th>CORE_COURSE_NAME_1_F</th>\n",
       "      <th>CORE_COURSE_NAME_2_F</th>\n",
       "      <th>CORE_COURSE_NAME_3_F</th>\n",
       "      <th>CORE_COURSE_NAME_4_F</th>\n",
       "      <th>CORE_COURSE_NAME_5_F</th>\n",
       "      <th>CORE_COURSE_NAME_6_F</th>\n",
       "    </tr>\n",
       "  </thead>\n",
       "  <tbody>\n",
       "    <tr>\n",
       "      <th>0</th>\n",
       "      <td>ANTH 1105</td>\n",
       "      <td>ARTH 1100</td>\n",
       "      <td>ENGL 1102</td>\n",
       "      <td>PSYC 1101</td>\n",
       "      <td>NaN</td>\n",
       "      <td>NaN</td>\n",
       "    </tr>\n",
       "    <tr>\n",
       "      <th>1</th>\n",
       "      <td>ANTH 1105</td>\n",
       "      <td>GERM 1002</td>\n",
       "      <td>ITDS 2735</td>\n",
       "      <td>MATH 1125</td>\n",
       "      <td>THEA 1100</td>\n",
       "      <td>POLS 1101</td>\n",
       "    </tr>\n",
       "    <tr>\n",
       "      <th>2</th>\n",
       "      <td>ANTH 1105</td>\n",
       "      <td>ENGL 1101</td>\n",
       "      <td>HIST 2111</td>\n",
       "      <td>MATH 1111</td>\n",
       "      <td>SOCI 1101</td>\n",
       "      <td>NaN</td>\n",
       "    </tr>\n",
       "    <tr>\n",
       "      <th>3</th>\n",
       "      <td>ANTH 1107</td>\n",
       "      <td>COMM 1110</td>\n",
       "      <td>NaN</td>\n",
       "      <td>NaN</td>\n",
       "      <td>NaN</td>\n",
       "      <td>NaN</td>\n",
       "    </tr>\n",
       "    <tr>\n",
       "      <th>4</th>\n",
       "      <td>ANTH 1107</td>\n",
       "      <td>ARTH 1100</td>\n",
       "      <td>CPSC 1105</td>\n",
       "      <td>MATH 1111</td>\n",
       "      <td>NaN</td>\n",
       "      <td>NaN</td>\n",
       "    </tr>\n",
       "    <tr>\n",
       "      <th>...</th>\n",
       "      <td>...</td>\n",
       "      <td>...</td>\n",
       "      <td>...</td>\n",
       "      <td>...</td>\n",
       "      <td>...</td>\n",
       "      <td>...</td>\n",
       "    </tr>\n",
       "    <tr>\n",
       "      <th>3395</th>\n",
       "      <td>COMM 1110</td>\n",
       "      <td>NaN</td>\n",
       "      <td>NaN</td>\n",
       "      <td>NaN</td>\n",
       "      <td>NaN</td>\n",
       "      <td>NaN</td>\n",
       "    </tr>\n",
       "    <tr>\n",
       "      <th>3396</th>\n",
       "      <td>POLS 1101</td>\n",
       "      <td>NaN</td>\n",
       "      <td>NaN</td>\n",
       "      <td>NaN</td>\n",
       "      <td>NaN</td>\n",
       "      <td>NaN</td>\n",
       "    </tr>\n",
       "    <tr>\n",
       "      <th>3397</th>\n",
       "      <td>ENGL 1101</td>\n",
       "      <td>NaN</td>\n",
       "      <td>NaN</td>\n",
       "      <td>NaN</td>\n",
       "      <td>NaN</td>\n",
       "      <td>NaN</td>\n",
       "    </tr>\n",
       "    <tr>\n",
       "      <th>3398</th>\n",
       "      <td>PSYC 1101</td>\n",
       "      <td>NaN</td>\n",
       "      <td>NaN</td>\n",
       "      <td>NaN</td>\n",
       "      <td>NaN</td>\n",
       "      <td>NaN</td>\n",
       "    </tr>\n",
       "    <tr>\n",
       "      <th>3399</th>\n",
       "      <td>HIST 2111</td>\n",
       "      <td>NaN</td>\n",
       "      <td>NaN</td>\n",
       "      <td>NaN</td>\n",
       "      <td>NaN</td>\n",
       "      <td>NaN</td>\n",
       "    </tr>\n",
       "  </tbody>\n",
       "</table>\n",
       "<p>3400 rows × 6 columns</p>\n",
       "</div>"
      ],
      "text/plain": [
       "     CORE_COURSE_NAME_1_F CORE_COURSE_NAME_2_F CORE_COURSE_NAME_3_F  \\\n",
       "0               ANTH 1105            ARTH 1100            ENGL 1102   \n",
       "1               ANTH 1105            GERM 1002            ITDS 2735   \n",
       "2               ANTH 1105            ENGL 1101            HIST 2111   \n",
       "3               ANTH 1107            COMM 1110                  NaN   \n",
       "4               ANTH 1107            ARTH 1100            CPSC 1105   \n",
       "...                   ...                  ...                  ...   \n",
       "3395            COMM 1110                  NaN                  NaN   \n",
       "3396            POLS 1101                  NaN                  NaN   \n",
       "3397            ENGL 1101                  NaN                  NaN   \n",
       "3398            PSYC 1101                  NaN                  NaN   \n",
       "3399            HIST 2111                  NaN                  NaN   \n",
       "\n",
       "     CORE_COURSE_NAME_4_F CORE_COURSE_NAME_5_F CORE_COURSE_NAME_6_F  \n",
       "0               PSYC 1101                  NaN                  NaN  \n",
       "1               MATH 1125            THEA 1100            POLS 1101  \n",
       "2               MATH 1111            SOCI 1101                  NaN  \n",
       "3                     NaN                  NaN                  NaN  \n",
       "4               MATH 1111                  NaN                  NaN  \n",
       "...                   ...                  ...                  ...  \n",
       "3395                  NaN                  NaN                  NaN  \n",
       "3396                  NaN                  NaN                  NaN  \n",
       "3397                  NaN                  NaN                  NaN  \n",
       "3398                  NaN                  NaN                  NaN  \n",
       "3399                  NaN                  NaN                  NaN  \n",
       "\n",
       "[3400 rows x 6 columns]"
      ]
     },
     "execution_count": 144,
     "metadata": {},
     "output_type": "execute_result"
    }
   ],
   "source": [
    "df[['CORE_COURSE_NAME_1_F',  'CORE_COURSE_NAME_2_F', 'CORE_COURSE_NAME_3_F', 'CORE_COURSE_NAME_4_F',\n",
    "      'CORE_COURSE_NAME_5_F', 'CORE_COURSE_NAME_6_F']]"
   ]
  },
  {
   "cell_type": "code",
   "execution_count": 151,
   "metadata": {},
   "outputs": [
    {
     "data": {
      "text/plain": [
       "ENGL 1101                   2330\n",
       "HIST 2111                    825\n",
       "COMM 1110                    780\n",
       "MATH 1111                    740\n",
       "POLS 1101                    520\n",
       "                            ... \n",
       "Life and Career Planning       1\n",
       "U.S. History to 1865           1\n",
       "LATN 1002                      1\n",
       "BIOL 1225K                     1\n",
       "FREN 2002                      1\n",
       "Length: 83, dtype: int64"
      ]
     },
     "execution_count": 151,
     "metadata": {},
     "output_type": "execute_result"
    }
   ],
   "source": [
    "pd.concat([df['CORE_COURSE_NAME_1_F'], df['CORE_COURSE_NAME_2_F'], df['CORE_COURSE_NAME_3_F'], df['CORE_COURSE_NAME_4_F'],\n",
    "          df['CORE_COURSE_NAME_5_F'], df['CORE_COURSE_NAME_6_F']]).value_counts()\n",
    "#instead of course name, we can consider the grades for each student with number of subjects"
   ]
  },
  {
   "cell_type": "code",
   "execution_count": 153,
   "metadata": {},
   "outputs": [
    {
     "data": {
      "text/plain": [
       "B          4100\n",
       "A          3905\n",
       "C          2402\n",
       "D           966\n",
       "F           595\n",
       "NOT REP     109\n",
       "INCOMPL      35\n",
       "dtype: int64"
      ]
     },
     "execution_count": 153,
     "metadata": {},
     "output_type": "execute_result"
    }
   ],
   "source": [
    "pd.concat([df['CORE_COURSE_GRADE_1_F'], df['CORE_COURSE_GRADE_2_F'], df['CORE_COURSE_GRADE_3_F'], df['CORE_COURSE_GRADE_4_F'],\n",
    "          df['CORE_COURSE_GRADE_5_F'], df['CORE_COURSE_GRADE_6_F']]).value_counts()"
   ]
  },
  {
   "cell_type": "markdown",
   "metadata": {},
   "source": [
    "### Second term"
   ]
  },
  {
   "cell_type": "code",
   "execution_count": 156,
   "metadata": {},
   "outputs": [
    {
     "data": {
      "text/plain": [
       "(200602, 201102)"
      ]
     },
     "execution_count": 156,
     "metadata": {},
     "output_type": "execute_result"
    }
   ],
   "source": [
    "df['SECOND_TERM'].min(), df['SECOND_TERM'].max()\n",
    "\n",
    "#Data consists of 6years, 2005 to 2010. But second sem starts after 6months\n",
    "#we can convert it to year feature and then label encode it\n",
    "\n",
    "#instead of course name, we can consider the grades for each student with number of subjects"
   ]
  },
  {
   "cell_type": "markdown",
   "metadata": {},
   "source": [
    "### HOUSING_STS"
   ]
  },
  {
   "cell_type": "code",
   "execution_count": 157,
   "metadata": {},
   "outputs": [
    {
     "data": {
      "text/plain": [
       "Off Campus    1981\n",
       "On Campus     1419\n",
       "Name: HOUSING_STS, dtype: int64"
      ]
     },
     "execution_count": 157,
     "metadata": {},
     "output_type": "execute_result"
    }
   ],
   "source": [
    "df['HOUSING_STS'].value_counts()"
   ]
  },
  {
   "cell_type": "code",
   "execution_count": 159,
   "metadata": {},
   "outputs": [
    {
     "data": {
      "image/png": "[encoded data removed]",
      "text/plain": [
       "<Figure size 1152x504 with 3 Axes>"
      ]
     },
     "metadata": {
      "needs_background": "light"
     },
     "output_type": "display_data"
    }
   ],
   "source": [
    "plt.figure(figsize=(16,7))\n",
    "\n",
    "plt.subplot(1,3,1)\n",
    "sns.countplot(df['HOUSING_STS'])\n",
    "plt.title('Bar graph')\n",
    "\n",
    "plt.subplot(1,3,2)\n",
    "plt.pie(df['HOUSING_STS'].value_counts(),explode=[0.05,0], colors=[ 'lightskyblue', 'orange'], labels=['OFF_camp', 'On_camp'], autopct='%.2f%%')\n",
    "plt.title('Pie chart')\n",
    "\n",
    "plt.subplot(1,3,3)\n",
    "sns.countplot(df['HOUSING_STS'], hue=df['Attrition'])\n",
    "\n",
    "plt.show()\n"
   ]
  },
  {
   "cell_type": "markdown",
   "metadata": {},
   "source": [
    "### DISTANCE_FROM_HOME"
   ]
  },
  {
   "cell_type": "code",
   "execution_count": 161,
   "metadata": {},
   "outputs": [
    {
     "data": {
      "text/plain": [
       "(0.0, 5932.0)"
      ]
     },
     "execution_count": 161,
     "metadata": {},
     "output_type": "execute_result"
    }
   ],
   "source": [
    "df['DISTANCE_FROM_HOME'].min(), df['DISTANCE_FROM_HOME'].max()"
   ]
  },
  {
   "cell_type": "code",
   "execution_count": 163,
   "metadata": {},
   "outputs": [
    {
     "data": {
      "text/plain": [
       "<AxesSubplot:xlabel='DISTANCE_FROM_HOME', ylabel='Density'>"
      ]
     },
     "execution_count": 163,
     "metadata": {},
     "output_type": "execute_result"
    },
    {
     "data": {
      "image/png": "[encoded data removed]",
      "text/plain": [
       "<Figure size 432x288 with 1 Axes>"
      ]
     },
     "metadata": {
      "needs_background": "light"
     },
     "output_type": "display_data"
    }
   ],
   "source": [
    "sns.distplot(df['DISTANCE_FROM_HOME'])"
   ]
  },
  {
   "cell_type": "code",
   "execution_count": 164,
   "metadata": {},
   "outputs": [
    {
     "data": {
      "text/plain": [
       "<AxesSubplot:xlabel='DISTANCE_FROM_HOME'>"
      ]
     },
     "execution_count": 164,
     "metadata": {},
     "output_type": "execute_result"
    },
    {
     "data": {
      "image/png": "[encoded data removed]",
      "text/plain": [
       "<Figure size 432x288 with 1 Axes>"
      ]
     },
     "metadata": {
      "needs_background": "light"
     },
     "output_type": "display_data"
    }
   ],
   "source": [
    "#There are outliers\n",
    "\n",
    "sns.boxplot(df['DISTANCE_FROM_HOME'])"
   ]
  },
  {
   "cell_type": "code",
   "execution_count": 166,
   "metadata": {},
   "outputs": [
    {
     "data": {
      "text/plain": [
       "53"
      ]
     },
     "execution_count": 166,
     "metadata": {},
     "output_type": "execute_result"
    }
   ],
   "source": [
    "df['HIGH_SCHL_GPA'].isnull().sum()"
   ]
  },
  {
   "cell_type": "code",
   "execution_count": 167,
   "metadata": {},
   "outputs": [
    {
     "data": {
      "text/plain": [
       "SCHOOL 11     249\n",
       "SCHOOL 130    245\n",
       "SCHOOL 10     238\n",
       "SCHOOL 1      209\n",
       "SCHOOL 2      129\n",
       "             ... \n",
       "SCHOOL 433      1\n",
       "SCHOOL 212      1\n",
       "SCHOOL 134      1\n",
       "SCHOOL 525      1\n",
       "SCHOOL 391      1\n",
       "Name: HIGH_SCHL_NAME, Length: 439, dtype: int64"
      ]
     },
     "execution_count": 167,
     "metadata": {},
     "output_type": "execute_result"
    }
   ],
   "source": [
    "df['HIGH_SCHL_NAME'].value_counts()"
   ]
  },
  {
   "cell_type": "code",
   "execution_count": 168,
   "metadata": {},
   "outputs": [
    {
     "data": {
      "text/plain": [
       "2.0    1336\n",
       "3.0    1309\n",
       "4.0     226\n",
       "1.0      97\n",
       "Name: FATHER_HI_EDU_CD, dtype: int64"
      ]
     },
     "execution_count": 168,
     "metadata": {},
     "output_type": "execute_result"
    }
   ],
   "source": [
    "df['FATHER_HI_EDU_CD'].value_counts()\n",
    "\n",
    "#we can remove anyone of the columns FATHER_HI_EDU_CD, FATHER_HI_EDU_DESC\n",
    "#same with mothers education"
   ]
  },
  {
   "cell_type": "code",
   "execution_count": 169,
   "metadata": {},
   "outputs": [
    {
     "data": {
      "text/plain": [
       "B    3384\n",
       "A      12\n",
       "V       4\n",
       "Name: DEGREE_GROUP_CD, dtype: int64"
      ]
     },
     "execution_count": 169,
     "metadata": {},
     "output_type": "execute_result"
    }
   ],
   "source": [
    "df['DEGREE_GROUP_CD'].value_counts()"
   ]
  },
  {
   "cell_type": "code",
   "execution_count": 171,
   "metadata": {},
   "outputs": [
    {
     "data": {
      "text/plain": [
       "Bachelors           3384\n",
       "Associate             12\n",
       "Career Associate       4\n",
       "Name: DEGREE_GROUP_DESC, dtype: int64"
      ]
     },
     "execution_count": 171,
     "metadata": {},
     "output_type": "execute_result"
    }
   ],
   "source": [
    "df['DEGREE_GROUP_DESC'].value_counts()\n",
    "\n",
    "#we can remove one columns ==> DEGREE_GROUP_CD or DEGREE_GROUP_DESC and encode the other columns"
   ]
  },
  {
   "cell_type": "code",
   "execution_count": 173,
   "metadata": {},
   "outputs": [
    {
     "data": {
      "text/plain": [
       "-3"
      ]
     },
     "execution_count": 173,
     "metadata": {},
     "output_type": "execute_result"
    }
   ],
   "source": [
    "(df['FIRST_TERM_ATTEMPT_HRS'] - df['FIRST_TERM_EARNED_HRS']).min()"
   ]
  },
  {
   "cell_type": "markdown",
   "metadata": {},
   "source": [
    "# Data pre-processing"
   ]
  },
  {
   "cell_type": "code",
   "execution_count": 178,
   "metadata": {},
   "outputs": [],
   "source": [
    "#remove 'STUDENT IDENTIFIER' column, it is redundant\n",
    "\n",
    "df.drop('STUDENT IDENTIFIER', axis=1, inplace=True)"
   ]
  },
  {
   "cell_type": "code",
   "execution_count": 180,
   "metadata": {},
   "outputs": [
    {
     "data": {
      "text/plain": [
       "STDNT_AGE                      0\n",
       "STDNT_GENDER                   0\n",
       "STDNT_BACKGROUND               0\n",
       "IN_STATE_FLAG                  0\n",
       "INTERNATIONAL_STS              0\n",
       "STDNT_MAJOR                    0\n",
       "STDNT_MINOR                    0\n",
       "STDNT_TEST_ENTRANCE1        2294\n",
       "STDNT_TEST_ENTRANCE2         908\n",
       "STDNT_TEST_ENTRANCE_COMB     518\n",
       "FIRST_TERM                     0\n",
       "CORE_COURSE_NAME_1_F           0\n",
       "CORE_COURSE_GRADE_1_F          0\n",
       "CORE_COURSE_NAME_2_F          99\n",
       "CORE_COURSE_GRADE_2_F         99\n",
       "CORE_COURSE_NAME_3_F         565\n",
       "CORE_COURSE_GRADE_3_F        565\n",
       "CORE_COURSE_NAME_4_F        1597\n",
       "CORE_COURSE_GRADE_4_F       1597\n",
       "CORE_COURSE_NAME_5_F        2755\n",
       "CORE_COURSE_GRADE_5_F       2755\n",
       "CORE_COURSE_NAME_6_F        3272\n",
       "CORE_COURSE_GRADE_6_F       3272\n",
       "SECOND_TERM                    0\n",
       "CORE_COURSE_NAME_1_S         157\n",
       "CORE_COURSE_GRADE_1_S        232\n",
       "CORE_COURSE_NAME_2_S         439\n",
       "CORE_COURSE_GRADE_2_S        439\n",
       "CORE_COURSE_NAME_3_S        1038\n",
       "CORE_COURSE_GRADE_3_S       1038\n",
       "CORE_COURSE_NAME_4_S        2045\n",
       "CORE_COURSE_GRADE_4_S       2045\n",
       "CORE_COURSE_NAME_5_S        2950\n",
       "CORE_COURSE_GRADE_5_S       2950\n",
       "CORE_COURSE_NAME_6_S        3319\n",
       "CORE_COURSE_GRADE_6_S       3319\n",
       "HOUSING_STS                    0\n",
       "DISTANCE_FROM_HOME            25\n",
       "HIGH_SCHL_GPA                 53\n",
       "HIGH_SCHL_NAME                 1\n",
       "FATHER_HI_EDU_CD             432\n",
       "FATHER_HI_EDU_DESC             0\n",
       "MOTHER_HI_EDU_CD             489\n",
       "MOTHER_HI_EDU_DESC             0\n",
       "DEGREE_GROUP_CD                0\n",
       "DEGREE_GROUP_DESC              0\n",
       "FIRST_TERM_ATTEMPT_HRS         0\n",
       "FIRST_TERM_EARNED_HRS          0\n",
       "SECOND_TERM_ATTEMPT_HRS      206\n",
       "SECOND_TERM_EARNED_HRS       209\n",
       "GROSS_FIN_NEED                 0\n",
       "COST_OF_ATTEND                 0\n",
       "EST_FAM_CONTRIBUTION           0\n",
       "UNMET_NEED                     0\n",
       "Attrition                      0\n",
       "dtype: int64"
      ]
     },
     "execution_count": 180,
     "metadata": {},
     "output_type": "execute_result"
    }
   ],
   "source": [
    "df.isnull().sum()"
   ]
  },
  {
   "cell_type": "code",
   "execution_count": 188,
   "metadata": {},
   "outputs": [
    {
     "data": {
      "text/plain": [
       "(array(['Undeclared', 'Mathematics', 'Art', 'Political Science', 'Biology',\n",
       "        'Accounting', 'Criminal Justice', 'Psychology', 'Theatre Arts',\n",
       "        'Nursing', 'Pre-Nursing', 'Chemistry', 'Pre-Engineering/RETP',\n",
       "        'Early Childhood Education', 'Music Performance',\n",
       "        'English Language/Literature', 'Joint Enrollment - Accel',\n",
       "        'History and Secondary Ed', 'History', 'Engineering Studies',\n",
       "        'Computer Science - Systems', 'Pre-Business', 'Management',\n",
       "        'Theatre Education', 'Marketing', 'Communication',\n",
       "        'Music Education', 'French with Teacher Cert',\n",
       "        'English and Secondary Ed', 'Exercise Science', 'General Business',\n",
       "        'Mathematics and Secondary Ed', 'Finance', 'French',\n",
       "        'Health Science', 'Spec Ed: Gen. Curr. - Reading', 'Music',\n",
       "        'Middle Grades Education', 'Geology',\n",
       "        'Management Information Systems', 'Art Education',\n",
       "        'Applied Computer Science', 'Information Technology', 'Sociology',\n",
       "        'Computer Science - Games', 'Spanish', 'General Studies/AS',\n",
       "        'Biology and Secondary Ed', 'Chemistry and Secondary Ed',\n",
       "        'Health and Physical Education', 'Liberal Arts',\n",
       "        'Spanish with Teacher Cert', 'Earth and Space Science',\n",
       "        'Early Admission - Accel'], dtype=object),\n",
       " 54)"
      ]
     },
     "execution_count": 188,
     "metadata": {},
     "output_type": "execute_result"
    }
   ],
   "source": [
    "df['STDNT_MAJOR'].unique(), df['STDNT_MAJOR'].nunique()\n",
    "\n",
    "#There are no null values but there are undeclared category, we can perform a statistical test & decide whether to remove \n",
    "#or not"
   ]
  },
  {
   "cell_type": "code",
   "execution_count": 195,
   "metadata": {},
   "outputs": [
    {
     "name": "stdout",
     "output_type": "stream",
     "text": [
      "0.002281570927520071\n"
     ]
    }
   ],
   "source": [
    "#if we encode it 54 cat will be formed.\n",
    "\n",
    "#we can perform a statiscal test to find out whether there is a relationship b/w target and major subject\n",
    "\n",
    "#Chi2 contingency\n",
    "# Ho : There is no relation\n",
    "# Ha : There is a relation\n",
    "\n",
    "obs = pd.crosstab(df['Attrition'], df['STDNT_MAJOR'])\n",
    "\n",
    "tstat, pvalue, x, exp = stats.chi2_contingency(obs)\n",
    "\n",
    "print(pvalue)\n",
    "\n",
    "# pval = 0.0022\n",
    "# pval < sig lvl\n",
    "# Ho is rejected\n",
    "# There is a relation\n",
    "\n",
    "#we dont remove that feature, instead we can label encode it"
   ]
  },
  {
   "cell_type": "code",
   "execution_count": 197,
   "metadata": {},
   "outputs": [
    {
     "name": "stdout",
     "output_type": "stream",
     "text": [
      "0.5562124183770998\n"
     ]
    }
   ],
   "source": [
    "#we can perform a statiscal test to find out whether there is a relationship b/w target and minor subject\n",
    "\n",
    "#Chi2 contingency\n",
    "# Ho : There is no relation\n",
    "# Ha : There is a relation\n",
    "\n",
    "obs = pd.crosstab(df['Attrition'], df['STDNT_MINOR'])\n",
    "\n",
    "tstat, pvalue, x, exp = stats.chi2_contingency(obs)\n",
    "\n",
    "print(pvalue)\n",
    "#there is no relationship, we drop that column\n",
    "\n",
    "df.drop('STDNT_MINOR', axis=1, inplace=True)"
   ]
  },
  {
   "cell_type": "code",
   "execution_count": 199,
   "metadata": {},
   "outputs": [],
   "source": [
    "#Entrance exam, we can consider only STDNT_TEST_ENTRANCE_COMB, we can drop other 2 columns\n",
    "\n",
    "df.drop(['STDNT_TEST_ENTRANCE1', 'STDNT_TEST_ENTRANCE2'], axis=1, inplace=True)"
   ]
  },
  {
   "cell_type": "code",
   "execution_count": 205,
   "metadata": {},
   "outputs": [
    {
     "name": "stdout",
     "output_type": "stream",
     "text": [
      "no of null values 518\n"
     ]
    },
    {
     "data": {
      "text/plain": [
       "-0.36469197420163796"
      ]
     },
     "execution_count": 205,
     "metadata": {},
     "output_type": "execute_result"
    }
   ],
   "source": [
    "print('no of null values', df['STDNT_TEST_ENTRANCE_COMB'].isnull().sum())\n",
    "#there are 518 null values, \n",
    "\n",
    "df['STDNT_TEST_ENTRANCE_COMB'].skew()\n",
    "#its lightly left skewed, we can impute null with mean value/"
   ]
  },
  {
   "cell_type": "code",
   "execution_count": 208,
   "metadata": {},
   "outputs": [],
   "source": [
    "a = df['STDNT_TEST_ENTRANCE_COMB'].mean()\n",
    "\n",
    "df['STDNT_TEST_ENTRANCE_COMB'] = df['STDNT_TEST_ENTRANCE_COMB'].fillna(a)"
   ]
  },
  {
   "cell_type": "code",
   "execution_count": 214,
   "metadata": {},
   "outputs": [
    {
     "data": {
      "text/plain": [
       "array([94], dtype=int64)"
      ]
     },
     "execution_count": 214,
     "metadata": {},
     "output_type": "execute_result"
    }
   ],
   "source": [
    "#First term\n",
    "#we can check the difference between 1 & 2term. If all the students have 6months as first term. We can keep only one value\n",
    "#That is year of first term\n",
    "\n",
    "(df['SECOND_TERM'] - df['FIRST_TERM']).unique()\n",
    "#Every student stuides 6months per term"
   ]
  },
  {
   "cell_type": "code",
   "execution_count": 215,
   "metadata": {},
   "outputs": [],
   "source": [
    "#we can remove Second term feature\n",
    "df.drop('SECOND_TERM', axis=1, inplace=True)"
   ]
  },
  {
   "cell_type": "code",
   "execution_count": 223,
   "metadata": {},
   "outputs": [],
   "source": [
    "#we can keep only year as first term and then later we can label encode it\n",
    "\n",
    "df['FIRST_TERM'] = df['FIRST_TERM'].apply(lambda x: str(x)[:4])\n",
    "\n",
    "#table has 5years of data"
   ]
  },
  {
   "cell_type": "code",
   "execution_count": 271,
   "metadata": {},
   "outputs": [],
   "source": [
    "#We can remove all the subject names and keep number of subjects each student attended\n",
    "\n",
    "#we can change the feature as 1 if there is a subject else 0\n",
    "\n",
    "#list of course feature name taken by each student in first term\n",
    "course_1 = ['CORE_COURSE_NAME_1_F',  'CORE_COURSE_NAME_2_F', 'CORE_COURSE_NAME_3_F', 'CORE_COURSE_NAME_4_F',\n",
    "      'CORE_COURSE_NAME_5_F', 'CORE_COURSE_NAME_6_F']\n",
    "\n",
    "for feat in course_1:\n",
    "    df[feat] = df_copy[feat].fillna(0).apply(lambda x: 0 if x==0 else 1)"
   ]
  },
  {
   "cell_type": "code",
   "execution_count": 276,
   "metadata": {},
   "outputs": [],
   "source": [
    "df['No_sub_first_term'] = df[['CORE_COURSE_NAME_1_F',  'CORE_COURSE_NAME_2_F', 'CORE_COURSE_NAME_3_F', 'CORE_COURSE_NAME_4_F',\n",
    "      'CORE_COURSE_NAME_5_F', 'CORE_COURSE_NAME_6_F']].sum(axis=1)"
   ]
  },
  {
   "cell_type": "code",
   "execution_count": 338,
   "metadata": {},
   "outputs": [],
   "source": [
    "#remove those course columns\n",
    "\n",
    "df.drop(['CORE_COURSE_NAME_1_F',  'CORE_COURSE_NAME_2_F', 'CORE_COURSE_NAME_3_F', 'CORE_COURSE_NAME_4_F',\n",
    "      'CORE_COURSE_NAME_5_F', 'CORE_COURSE_NAME_6_F'], axis=1, inplace=True)"
   ]
  },
  {
   "cell_type": "code",
   "execution_count": null,
   "metadata": {},
   "outputs": [],
   "source": [
    "#Calculate the grades obtained by each student in overall subjects\n",
    "#Almost every students have cleared the course, we can delete these grades\n",
    "\n",
    "df.drop(['CORE_COURSE_GRADE_1_F',  'CORE_COURSE_GRADE_2_F', 'CORE_COURSE_GRADE_3_F', 'CORE_COURSE_GRADE_4_F',\n",
    "      'CORE_COURSE_GRADE_5_F', 'CORE_COURSE_GRADE_6_F'], axis=1, inplace=True)"
   ]
  },
  {
   "cell_type": "code",
   "execution_count": 328,
   "metadata": {},
   "outputs": [],
   "source": [
    "#WE can calculate no of sunjects taken in 2nd term and delete those columns\n",
    "\n",
    "#list of course feature name taken by each student in first term\n",
    "course_2 = ['CORE_COURSE_NAME_1_S',  'CORE_COURSE_NAME_2_S', 'CORE_COURSE_NAME_3_S', 'CORE_COURSE_NAME_4_S',\n",
    "      'CORE_COURSE_NAME_5_S', 'CORE_COURSE_NAME_6_S']\n",
    "\n",
    "for feat in course_2:\n",
    "    df[feat] = df_copy[feat].fillna(0).apply(lambda x: 0 if x==0 else 1)"
   ]
  },
  {
   "cell_type": "code",
   "execution_count": 329,
   "metadata": {},
   "outputs": [],
   "source": [
    "df['No_sub_second_term'] = df[['CORE_COURSE_NAME_1_S',  'CORE_COURSE_NAME_2_S', 'CORE_COURSE_NAME_3_S', 'CORE_COURSE_NAME_4_S',\n",
    "      'CORE_COURSE_NAME_5_S', 'CORE_COURSE_NAME_6_S']].sum(axis=1)"
   ]
  },
  {
   "cell_type": "code",
   "execution_count": 333,
   "metadata": {},
   "outputs": [],
   "source": [
    "#remove those course columns\n",
    "\n",
    "df.drop(course_2, axis=1, inplace=True)"
   ]
  },
  {
   "cell_type": "code",
   "execution_count": 334,
   "metadata": {},
   "outputs": [],
   "source": [
    "#remove grade columns\n",
    "\n",
    "df.drop(['CORE_COURSE_GRADE_1_S',  'CORE_COURSE_GRADE_2_S', 'CORE_COURSE_GRADE_3_S', 'CORE_COURSE_GRADE_4_S',\n",
    "      'CORE_COURSE_GRADE_5_S', 'CORE_COURSE_GRADE_6_S'], axis=1, inplace=True)"
   ]
  },
  {
   "cell_type": "code",
   "execution_count": 362,
   "metadata": {},
   "outputs": [
    {
     "data": {
      "text/plain": [
       "Off Campus    1981\n",
       "On Campus     1419\n",
       "Name: HOUSING_STS, dtype: int64"
      ]
     },
     "execution_count": 362,
     "metadata": {},
     "output_type": "execute_result"
    }
   ],
   "source": [
    "df['HOUSING_STS'].value_counts()"
   ]
  },
  {
   "cell_type": "code",
   "execution_count": 449,
   "metadata": {},
   "outputs": [
    {
     "data": {
      "text/plain": [
       "25"
      ]
     },
     "execution_count": 449,
     "metadata": {},
     "output_type": "execute_result"
    }
   ],
   "source": [
    "df['DISTANCE_FROM_HOME'].isnull().sum()\n",
    "#there are 25null values, we can impute the null values\n",
    "\n",
    "#we can fill mean for null values"
   ]
  },
  {
   "cell_type": "code",
   "execution_count": 451,
   "metadata": {},
   "outputs": [],
   "source": [
    "df['DISTANCE_FROM_HOME'].fillna(df['DISTANCE_FROM_HOME'].mean(), inplace=True)"
   ]
  },
  {
   "cell_type": "code",
   "execution_count": 456,
   "metadata": {},
   "outputs": [],
   "source": [
    "#we can impute null with mean\n",
    "df['HIGH_SCHL_GPA'].fillna(df['HIGH_SCHL_GPA'].mean(), inplace=True)"
   ]
  },
  {
   "cell_type": "code",
   "execution_count": 472,
   "metadata": {},
   "outputs": [],
   "source": [
    "#1 null value in HIGH_school_name\n",
    "#we can back fill this record\n",
    "\n",
    "df['HIGH_SCHL_NAME'].fillna(method='bfill', inplace=True)"
   ]
  },
  {
   "cell_type": "code",
   "execution_count": 474,
   "metadata": {},
   "outputs": [],
   "source": [
    "#we could drop FATHER_HI_EDU_CD & MOTHER_HI_EDU_CD, becuase it duplicated with FATHER_HI_EDU_DESC & moTHER_HI_EDU_DESC\n",
    "\n",
    "df.drop(['FATHER_HI_EDU_CD', 'MOTHER_HI_EDU_CD'], axis=1, inplace=True)"
   ]
  },
  {
   "cell_type": "code",
   "execution_count": 481,
   "metadata": {},
   "outputs": [],
   "source": [
    "# DEGREE_GROUP_CD  and  DEGREE_GROUP_DESC are same, we can drop anyone\n",
    "\n",
    "df.drop('DEGREE_GROUP_CD', axis=1, inplace=True)"
   ]
  },
  {
   "cell_type": "code",
   "execution_count": 485,
   "metadata": {},
   "outputs": [],
   "source": [
    "df['First_term_backlog_hrs']  = (df['FIRST_TERM_ATTEMPT_HRS'] - df['FIRST_TERM_EARNED_HRS'])"
   ]
  },
  {
   "cell_type": "code",
   "execution_count": 486,
   "metadata": {},
   "outputs": [],
   "source": [
    "df.drop('FIRST_TERM_EARNED_HRS', axis=1, inplace=True)"
   ]
  },
  {
   "cell_type": "code",
   "execution_count": 491,
   "metadata": {},
   "outputs": [],
   "source": [
    "df['First_term_backlog_hrs'] = df['First_term_backlog_hrs'].apply(lambda x : 0 if x<0 else x)"
   ]
  },
  {
   "cell_type": "code",
   "execution_count": 498,
   "metadata": {},
   "outputs": [],
   "source": [
    "# SECOND_TERM_ATTEMPT_HRS & SECOND_TERM_EARNED_HRS have null, might be they left the course after first term,\n",
    "#we impute with 0\n",
    "\n",
    "df['SECOND_TERM_ATTEMPT_HRS'].fillna(0, inplace=True)\n",
    "df['SECOND_TERM_EARNED_HRS'].fillna(0, inplace=True)"
   ]
  },
  {
   "cell_type": "code",
   "execution_count": 501,
   "metadata": {},
   "outputs": [],
   "source": [
    "df['Second_term_backlog_hrs']  = (df['SECOND_TERM_ATTEMPT_HRS'] - df['SECOND_TERM_EARNED_HRS'])\n",
    "df['Second_term_backlog_hrs'] = df['Second_term_backlog_hrs'].apply(lambda x : 0 if x<0 else x)"
   ]
  },
  {
   "cell_type": "code",
   "execution_count": 502,
   "metadata": {},
   "outputs": [],
   "source": [
    "df.drop('SECOND_TERM_EARNED_HRS', axis=1, inplace=True)"
   ]
  },
  {
   "cell_type": "code",
   "execution_count": 506,
   "metadata": {},
   "outputs": [],
   "source": [
    "#we can drop GROSS_FIN_NEED, becuase we have one more column called unmet need\n",
    "\n",
    "df.drop('GROSS_FIN_NEED',axis=1, inplace=True)"
   ]
  },
  {
   "cell_type": "code",
   "execution_count": 510,
   "metadata": {},
   "outputs": [],
   "source": [
    "df['UNMET_NEED'] = df['UNMET_NEED'].apply(lambda x: 0 if x<0 else x)"
   ]
  },
  {
   "cell_type": "code",
   "execution_count": 517,
   "metadata": {},
   "outputs": [
    {
     "data": {
      "text/plain": [
       "0"
      ]
     },
     "execution_count": 517,
     "metadata": {},
     "output_type": "execute_result"
    }
   ],
   "source": [
    "df.isnull().sum().sum()\n",
    "\n",
    "#there is no null value"
   ]
  },
  {
   "cell_type": "code",
   "execution_count": 514,
   "metadata": {},
   "outputs": [
    {
     "data": {
      "text/plain": [
       "(3400, 25)"
      ]
     },
     "execution_count": 514,
     "metadata": {},
     "output_type": "execute_result"
    }
   ],
   "source": [
    "df.shape"
   ]
  },
  {
   "cell_type": "code",
   "execution_count": 516,
   "metadata": {},
   "outputs": [
    {
     "data": {
      "text/plain": [
       "False    3400\n",
       "dtype: int64"
      ]
     },
     "execution_count": 516,
     "metadata": {},
     "output_type": "execute_result"
    }
   ],
   "source": [
    "#duplicate records\n",
    "\n",
    "df.duplicated().value_counts()"
   ]
  },
  {
   "cell_type": "markdown",
   "metadata": {},
   "source": [
    "### Outlier treatment"
   ]
  },
  {
   "cell_type": "code",
   "execution_count": 519,
   "metadata": {},
   "outputs": [
    {
     "data": {
      "text/plain": [
       "Index(['STDNT_AGE', 'STDNT_TEST_ENTRANCE_COMB', 'DISTANCE_FROM_HOME',\n",
       "       'HIGH_SCHL_GPA', 'FIRST_TERM_ATTEMPT_HRS', 'SECOND_TERM_ATTEMPT_HRS',\n",
       "       'COST_OF_ATTEND', 'EST_FAM_CONTRIBUTION', 'UNMET_NEED', 'Attrition',\n",
       "       'No_sub_first_term', 'No_sub_second_term', 'First_term_backlog_hrs',\n",
       "       'Second_term_backlog_hrs'],\n",
       "      dtype='object')"
      ]
     },
     "execution_count": 519,
     "metadata": {},
     "output_type": "execute_result"
    }
   ],
   "source": [
    "df.select_dtypes(include='number').columns"
   ]
  },
  {
   "cell_type": "code",
   "execution_count": 524,
   "metadata": {},
   "outputs": [],
   "source": [
    "df = df[df['HIGH_SCHL_GPA'] != 0]"
   ]
  },
  {
   "cell_type": "code",
   "execution_count": 525,
   "metadata": {},
   "outputs": [
    {
     "data": {
      "image/png": "[encoded data removed]",
      "text/plain": [
       "<Figure size 432x288 with 1 Axes>"
      ]
     },
     "metadata": {
      "needs_background": "light"
     },
     "output_type": "display_data"
    },
    {
     "data": {
      "image/png": "[encoded data removed]",
      "text/plain": [
       "<Figure size 432x288 with 1 Axes>"
      ]
     },
     "metadata": {
      "needs_background": "light"
     },
     "output_type": "display_data"
    },
    {
     "data": {
      "image/png": "[encoded data removed]",
      "text/plain": [
       "<Figure size 432x288 with 1 Axes>"
      ]
     },
     "metadata": {
      "needs_background": "light"
     },
     "output_type": "display_data"
    },
    {
     "data": {
      "image/png": "[encoded data removed]",
      "text/plain": [
       "<Figure size 432x288 with 1 Axes>"
      ]
     },
     "metadata": {
      "needs_background": "light"
     },
     "output_type": "display_data"
    },
    {
     "data": {
      "image/png": "[encoded data removed]",
      "text/plain": [
       "<Figure size 432x288 with 1 Axes>"
      ]
     },
     "metadata": {
      "needs_background": "light"
     },
     "output_type": "display_data"
    }
   ],
   "source": [
    "num_list = ['STDNT_AGE', 'STDNT_TEST_ENTRANCE_COMB', 'DISTANCE_FROM_HOME', 'HIGH_SCHL_GPA', 'COST_OF_ATTEND']\n",
    "\n",
    "for feat in num_list:\n",
    "    sns.boxplot(df[feat])\n",
    "    plt.show()"
   ]
  },
  {
   "cell_type": "code",
   "execution_count": 526,
   "metadata": {},
   "outputs": [],
   "source": [
    "#Power transformation to reduce outliers\n",
    "\n",
    "from sklearn.preprocessing import PowerTransformer\n",
    "pt = PowerTransformer()"
   ]
  },
  {
   "cell_type": "code",
   "execution_count": 530,
   "metadata": {},
   "outputs": [],
   "source": [
    "df[num_list] = pt.fit_transform(df[num_list])"
   ]
  },
  {
   "cell_type": "markdown",
   "metadata": {},
   "source": [
    "### Label encoding"
   ]
  },
  {
   "cell_type": "code",
   "execution_count": 553,
   "metadata": {},
   "outputs": [],
   "source": [
    "df.drop('HIGH_SCHL_NAME', axis=1, inplace=True)"
   ]
  },
  {
   "cell_type": "code",
   "execution_count": 554,
   "metadata": {},
   "outputs": [],
   "source": [
    "cat_list = list(df.select_dtypes(exclude='number').columns)"
   ]
  },
  {
   "cell_type": "code",
   "execution_count": 555,
   "metadata": {},
   "outputs": [
    {
     "data": {
      "text/plain": [
       "['STDNT_GENDER',\n",
       " 'STDNT_BACKGROUND',\n",
       " 'IN_STATE_FLAG',\n",
       " 'INTERNATIONAL_STS',\n",
       " 'STDNT_MAJOR',\n",
       " 'FIRST_TERM',\n",
       " 'HOUSING_STS',\n",
       " 'FATHER_HI_EDU_DESC',\n",
       " 'MOTHER_HI_EDU_DESC',\n",
       " 'DEGREE_GROUP_DESC']"
      ]
     },
     "execution_count": 555,
     "metadata": {},
     "output_type": "execute_result"
    }
   ],
   "source": [
    "cat_list"
   ]
  },
  {
   "cell_type": "code",
   "execution_count": 557,
   "metadata": {},
   "outputs": [],
   "source": [
    "df_final = pd.get_dummies(df, columns=cat_list, drop_first=True)"
   ]
  },
  {
   "cell_type": "code",
   "execution_count": 559,
   "metadata": {},
   "outputs": [
    {
     "name": "stdout",
     "output_type": "stream",
     "text": [
      "<class 'pandas.core.frame.DataFrame'>\n",
      "Int64Index: 3399 entries, 0 to 3399\n",
      "Data columns (total 93 columns):\n",
      " #   Column                                        Non-Null Count  Dtype  \n",
      "---  ------                                        --------------  -----  \n",
      " 0   STDNT_AGE                                     3399 non-null   float64\n",
      " 1   STDNT_TEST_ENTRANCE_COMB                      3399 non-null   float64\n",
      " 2   DISTANCE_FROM_HOME                            3399 non-null   float64\n",
      " 3   HIGH_SCHL_GPA                                 3399 non-null   float64\n",
      " 4   FIRST_TERM_ATTEMPT_HRS                        3399 non-null   int64  \n",
      " 5   SECOND_TERM_ATTEMPT_HRS                       3399 non-null   float64\n",
      " 6   COST_OF_ATTEND                                3399 non-null   float64\n",
      " 7   EST_FAM_CONTRIBUTION                          3399 non-null   int64  \n",
      " 8   UNMET_NEED                                    3399 non-null   float64\n",
      " 9   Attrition                                     3399 non-null   int64  \n",
      " 10  No_sub_first_term                             3399 non-null   int64  \n",
      " 11  No_sub_second_term                            3399 non-null   int64  \n",
      " 12  First_term_backlog_hrs                        3399 non-null   int64  \n",
      " 13  Second_term_backlog_hrs                       3399 non-null   float64\n",
      " 14  STDNT_GENDER_M                                3399 non-null   uint8  \n",
      " 15  STDNT_BACKGROUND_BGD 2                        3399 non-null   uint8  \n",
      " 16  STDNT_BACKGROUND_BGD 3                        3399 non-null   uint8  \n",
      " 17  STDNT_BACKGROUND_BGD 4                        3399 non-null   uint8  \n",
      " 18  STDNT_BACKGROUND_BGD 5                        3399 non-null   uint8  \n",
      " 19  STDNT_BACKGROUND_BGD 6                        3399 non-null   uint8  \n",
      " 20  STDNT_BACKGROUND_BGD 7                        3399 non-null   uint8  \n",
      " 21  STDNT_BACKGROUND_BGD 8                        3399 non-null   uint8  \n",
      " 22  IN_STATE_FLAG_Y                               3399 non-null   uint8  \n",
      " 23  INTERNATIONAL_STS_Y                           3399 non-null   uint8  \n",
      " 24  STDNT_MAJOR_Applied Computer Science          3399 non-null   uint8  \n",
      " 25  STDNT_MAJOR_Art                               3399 non-null   uint8  \n",
      " 26  STDNT_MAJOR_Art Education                     3399 non-null   uint8  \n",
      " 27  STDNT_MAJOR_Biology                           3399 non-null   uint8  \n",
      " 28  STDNT_MAJOR_Biology and Secondary Ed          3399 non-null   uint8  \n",
      " 29  STDNT_MAJOR_Chemistry                         3399 non-null   uint8  \n",
      " 30  STDNT_MAJOR_Chemistry and Secondary Ed        3399 non-null   uint8  \n",
      " 31  STDNT_MAJOR_Communication                     3399 non-null   uint8  \n",
      " 32  STDNT_MAJOR_Computer Science - Games          3399 non-null   uint8  \n",
      " 33  STDNT_MAJOR_Computer Science - Systems        3399 non-null   uint8  \n",
      " 34  STDNT_MAJOR_Criminal Justice                  3399 non-null   uint8  \n",
      " 35  STDNT_MAJOR_Early Admission - Accel           3399 non-null   uint8  \n",
      " 36  STDNT_MAJOR_Early Childhood Education         3399 non-null   uint8  \n",
      " 37  STDNT_MAJOR_Earth and Space Science           3399 non-null   uint8  \n",
      " 38  STDNT_MAJOR_Engineering Studies               3399 non-null   uint8  \n",
      " 39  STDNT_MAJOR_English Language/Literature       3399 non-null   uint8  \n",
      " 40  STDNT_MAJOR_English and Secondary Ed          3399 non-null   uint8  \n",
      " 41  STDNT_MAJOR_Exercise Science                  3399 non-null   uint8  \n",
      " 42  STDNT_MAJOR_Finance                           3399 non-null   uint8  \n",
      " 43  STDNT_MAJOR_French                            3399 non-null   uint8  \n",
      " 44  STDNT_MAJOR_French with Teacher Cert          3399 non-null   uint8  \n",
      " 45  STDNT_MAJOR_General Business                  3399 non-null   uint8  \n",
      " 46  STDNT_MAJOR_General Studies/AS                3399 non-null   uint8  \n",
      " 47  STDNT_MAJOR_Geology                           3399 non-null   uint8  \n",
      " 48  STDNT_MAJOR_Health Science                    3399 non-null   uint8  \n",
      " 49  STDNT_MAJOR_Health and Physical Education     3399 non-null   uint8  \n",
      " 50  STDNT_MAJOR_History                           3399 non-null   uint8  \n",
      " 51  STDNT_MAJOR_History and Secondary Ed          3399 non-null   uint8  \n",
      " 52  STDNT_MAJOR_Information Technology            3399 non-null   uint8  \n",
      " 53  STDNT_MAJOR_Joint Enrollment - Accel          3399 non-null   uint8  \n",
      " 54  STDNT_MAJOR_Liberal Arts                      3399 non-null   uint8  \n",
      " 55  STDNT_MAJOR_Management                        3399 non-null   uint8  \n",
      " 56  STDNT_MAJOR_Management Information Systems    3399 non-null   uint8  \n",
      " 57  STDNT_MAJOR_Marketing                         3399 non-null   uint8  \n",
      " 58  STDNT_MAJOR_Mathematics                       3399 non-null   uint8  \n",
      " 59  STDNT_MAJOR_Mathematics and Secondary Ed      3399 non-null   uint8  \n",
      " 60  STDNT_MAJOR_Middle Grades Education           3399 non-null   uint8  \n",
      " 61  STDNT_MAJOR_Music                             3399 non-null   uint8  \n",
      " 62  STDNT_MAJOR_Music Education                   3399 non-null   uint8  \n",
      " 63  STDNT_MAJOR_Music Performance                 3399 non-null   uint8  \n",
      " 64  STDNT_MAJOR_Nursing                           3399 non-null   uint8  \n",
      " 65  STDNT_MAJOR_Political Science                 3399 non-null   uint8  \n",
      " 66  STDNT_MAJOR_Pre-Business                      3399 non-null   uint8  \n",
      " 67  STDNT_MAJOR_Pre-Engineering/RETP              3399 non-null   uint8  \n",
      " 68  STDNT_MAJOR_Pre-Nursing                       3399 non-null   uint8  \n",
      " 69  STDNT_MAJOR_Psychology                        3399 non-null   uint8  \n",
      " 70  STDNT_MAJOR_Sociology                         3399 non-null   uint8  \n",
      " 71  STDNT_MAJOR_Spanish                           3399 non-null   uint8  \n",
      " 72  STDNT_MAJOR_Spanish with Teacher Cert         3399 non-null   uint8  \n",
      " 73  STDNT_MAJOR_Spec Ed: Gen. Curr. - Reading     3399 non-null   uint8  \n",
      " 74  STDNT_MAJOR_Theatre Arts                      3399 non-null   uint8  \n",
      " 75  STDNT_MAJOR_Theatre Education                 3399 non-null   uint8  \n",
      " 76  STDNT_MAJOR_Undeclared                        3399 non-null   uint8  \n",
      " 77  FIRST_TERM_2006                               3399 non-null   uint8  \n",
      " 78  FIRST_TERM_2007                               3399 non-null   uint8  \n",
      " 79  FIRST_TERM_2008                               3399 non-null   uint8  \n",
      " 80  FIRST_TERM_2009                               3399 non-null   uint8  \n",
      " 81  FIRST_TERM_2010                               3399 non-null   uint8  \n",
      " 82  HOUSING_STS_On Campus                         3399 non-null   uint8  \n",
      " 83  FATHER_HI_EDU_DESC_High School                3399 non-null   uint8  \n",
      " 84  FATHER_HI_EDU_DESC_Middle School/Junior High  3399 non-null   uint8  \n",
      " 85  FATHER_HI_EDU_DESC_No Information             3399 non-null   uint8  \n",
      " 86  FATHER_HI_EDU_DESC_Other/Unknown              3399 non-null   uint8  \n",
      " 87  MOTHER_HI_EDU_DESC_High School                3399 non-null   uint8  \n",
      " 88  MOTHER_HI_EDU_DESC_Middle School/Junior High  3399 non-null   uint8  \n",
      " 89  MOTHER_HI_EDU_DESC_No Information             3399 non-null   uint8  \n",
      " 90  MOTHER_HI_EDU_DESC_Other/Unknown              3399 non-null   uint8  \n",
      " 91  DEGREE_GROUP_DESC_Bachelors                   3399 non-null   uint8  \n",
      " 92  DEGREE_GROUP_DESC_Career Associate            3399 non-null   uint8  \n",
      "dtypes: float64(8), int64(6), uint8(79)\n",
      "memory usage: 660.5 KB\n"
     ]
    }
   ],
   "source": [
    "df_final.info()"
   ]
  },
  {
   "cell_type": "code",
   "execution_count": 563,
   "metadata": {},
   "outputs": [],
   "source": [
    "# split\n",
    "\n",
    "y = df_final['Attrition']\n",
    "X = df_final.drop('Attrition', axis=1)"
   ]
  },
  {
   "cell_type": "code",
   "execution_count": 564,
   "metadata": {},
   "outputs": [],
   "source": [
    "#test, train\n",
    "from sklearn.model_selection import train_test_split"
   ]
  },
  {
   "cell_type": "code",
   "execution_count": 565,
   "metadata": {},
   "outputs": [],
   "source": [
    "X_train, X_test, y_train, y_test = train_test_split(X,y, test_size=0.3, random_state=42)"
   ]
  },
  {
   "cell_type": "code",
   "execution_count": 567,
   "metadata": {},
   "outputs": [],
   "source": [
    "#Data transform for Unmet need, EST_FAM_CONTRIBUTION\n",
    "\n",
    "X_train['EST_FAM_CONTRIBUTION'] = pt.fit_transform(X_train[['EST_FAM_CONTRIBUTION']])\n",
    "X_test['EST_FAM_CONTRIBUTION'] = pt.transform(X_test[['EST_FAM_CONTRIBUTION']])"
   ]
  },
  {
   "cell_type": "code",
   "execution_count": 568,
   "metadata": {},
   "outputs": [],
   "source": [
    "X_train['UNMET_NEED'] = pt.fit_transform(X_train[['UNMET_NEED']])\n",
    "X_test['UNMET_NEED'] = pt.transform(X_test[['UNMET_NEED']])"
   ]
  },
  {
   "cell_type": "markdown",
   "metadata": {},
   "source": [
    "# Model building"
   ]
  },
  {
   "cell_type": "code",
   "execution_count": 707,
   "metadata": {},
   "outputs": [],
   "source": [
    "from sklearn.metrics import accuracy_score, roc_curve, roc_auc_score, confusion_matrix, precision_score, recall_score, f1_score"
   ]
  },
  {
   "cell_type": "code",
   "execution_count": 777,
   "metadata": {},
   "outputs": [],
   "source": [
    "def model_eval(algo, X_train=X_train, X_test=X_test, y_train=y_train, y_test=y_test):\n",
    "    algo.fit(X_train, y_train)\n",
    "    \n",
    "    y_train_pred = algo.predict(X_train)\n",
    "    y_train_pred_proba = algo.predict_proba(X_train)[:, 1]\n",
    "\n",
    "    cm = confusion_matrix(y_train, y_train_pred)\n",
    "    print('Train dataset :\\n')\n",
    "    print('Confusion matrix:\\n', cm)\n",
    "    print('Accuracy :', accuracy_score(y_train, y_train_pred))\n",
    "    print('Precision :',precision_score(y_train, y_train_pred))\n",
    "    print('Recall :', recall_score(y_train, y_train_pred))\n",
    "    print('AUC score :', roc_auc_score(y_train, y_train_pred_proba))\n",
    "    print('F1 score :', f1_score(y_train, y_train_pred))\n",
    "    \n",
    "    fpr_train, tpr_train, threshold_train = roc_curve(y_train, y_train_pred_proba)\n",
    "\n",
    "    plt.plot(fpr_train,fpr_train)\n",
    "    plt.plot(fpr_train,tpr_train)\n",
    "    plt.show()\n",
    "    \n",
    "    \n",
    "    y_test_pred = algo.predict(X_test)\n",
    "    y_test_pred_proba = algo.predict_proba(X_test)[:, 1]\n",
    "\n",
    "    cm = confusion_matrix(y_test, y_test_pred)\n",
    "    print('\\n\\nTest dataset :\\n')\n",
    "    print('Confusion matrix:\\n', cm)\n",
    "    print('Accuracy :', accuracy_score(y_test, y_test_pred))\n",
    "    print('Precision :',precision_score(y_test, y_test_pred))\n",
    "    print('Recall :', recall_score(y_test, y_test_pred))\n",
    "    print('AUC score :', roc_auc_score(y_test, y_test_pred_proba))\n",
    "    print('F1 score :', f1_score(y_test, y_test_pred))\n",
    "    \n",
    "    fpr_test, tpr_test, threshold_test = roc_curve(y_test, y_test_pred_proba)\n",
    "\n",
    "    plt.plot(fpr_test,fpr_test)\n",
    "    plt.plot(fpr_test,tpr_test)\n",
    "    plt.show()"
   ]
  },
  {
   "cell_type": "markdown",
   "metadata": {},
   "source": [
    "## 1.Logistic regression"
   ]
  },
  {
   "cell_type": "code",
   "execution_count": 778,
   "metadata": {},
   "outputs": [],
   "source": [
    "from sklearn.linear_model import LogisticRegression"
   ]
  },
  {
   "cell_type": "code",
   "execution_count": 779,
   "metadata": {},
   "outputs": [
    {
     "name": "stdout",
     "output_type": "stream",
     "text": [
      "Train dataset :\n",
      "\n",
      "Confusion matrix:\n",
      " [[1851   30]\n",
      " [ 351  147]]\n",
      "Accuracy : 0.8398486759142497\n",
      "Precision : 0.8305084745762712\n",
      "Recall : 0.29518072289156627\n",
      "AUC score : 0.7563993347125877\n",
      "F1 score : 0.43555555555555553\n"
     ]
    },
    {
     "data": {
      "image/png": "[encoded data removed]",
      "text/plain": [
       "<Figure size 432x288 with 1 Axes>"
      ]
     },
     "metadata": {
      "needs_background": "light"
     },
     "output_type": "display_data"
    },
    {
     "name": "stdout",
     "output_type": "stream",
     "text": [
      "\n",
      "\n",
      "Test dataset :\n",
      "\n",
      "Confusion matrix:\n",
      " [[788   8]\n",
      " [155  69]]\n",
      "Accuracy : 0.8401960784313726\n",
      "Precision : 0.8961038961038961\n",
      "Recall : 0.3080357142857143\n",
      "AUC score : 0.7104103104809764\n",
      "F1 score : 0.45847176079734214\n"
     ]
    },
    {
     "data": {
      "image/png": "[encoded data removed]",
      "text/plain": [
       "<Figure size 432x288 with 1 Axes>"
      ]
     },
     "metadata": {
      "needs_background": "light"
     },
     "output_type": "display_data"
    }
   ],
   "source": [
    "lor = LogisticRegression()\n",
    "\n",
    "model_eval(lor)"
   ]
  },
  {
   "cell_type": "markdown",
   "metadata": {},
   "source": [
    "## 1.1 Logistic regression with data imbalance treatment"
   ]
  },
  {
   "cell_type": "code",
   "execution_count": 780,
   "metadata": {},
   "outputs": [
    {
     "data": {
      "text/plain": [
       "0    78.758458\n",
       "1    21.241542\n",
       "Name: Attrition, dtype: float64"
      ]
     },
     "execution_count": 780,
     "metadata": {},
     "output_type": "execute_result"
    }
   ],
   "source": [
    "y.value_counts(normalize=True) * 100"
   ]
  },
  {
   "cell_type": "code",
   "execution_count": 781,
   "metadata": {},
   "outputs": [],
   "source": [
    "from imblearn.over_sampling import SMOTE"
   ]
  },
  {
   "cell_type": "code",
   "execution_count": 782,
   "metadata": {},
   "outputs": [],
   "source": [
    "sm = SMOTE(random_state=42)"
   ]
  },
  {
   "cell_type": "code",
   "execution_count": 783,
   "metadata": {},
   "outputs": [],
   "source": [
    "X_train_sm, y_train_sm = sm.fit_resample(X_train, y_train)"
   ]
  },
  {
   "cell_type": "code",
   "execution_count": 784,
   "metadata": {},
   "outputs": [
    {
     "data": {
      "text/plain": [
       "1    1881\n",
       "0    1881\n",
       "Name: Attrition, dtype: int64"
      ]
     },
     "execution_count": 784,
     "metadata": {},
     "output_type": "execute_result"
    }
   ],
   "source": [
    "y_train_sm.value_counts()"
   ]
  },
  {
   "cell_type": "code",
   "execution_count": 785,
   "metadata": {},
   "outputs": [
    {
     "data": {
      "text/plain": [
       "0    1881\n",
       "1     498\n",
       "Name: Attrition, dtype: int64"
      ]
     },
     "execution_count": 785,
     "metadata": {},
     "output_type": "execute_result"
    }
   ],
   "source": [
    "y_train.value_counts()"
   ]
  },
  {
   "cell_type": "code",
   "execution_count": 786,
   "metadata": {},
   "outputs": [
    {
     "data": {
      "text/plain": [
       "False    3762\n",
       "dtype: int64"
      ]
     },
     "execution_count": 786,
     "metadata": {},
     "output_type": "execute_result"
    }
   ],
   "source": [
    "X_train_sm.duplicated().value_counts()"
   ]
  },
  {
   "cell_type": "code",
   "execution_count": 787,
   "metadata": {},
   "outputs": [
    {
     "name": "stdout",
     "output_type": "stream",
     "text": [
      "Train dataset :\n",
      "\n",
      "Confusion matrix:\n",
      " [[1666  215]\n",
      " [ 345 1536]]\n",
      "Accuracy : 0.8511430090377459\n",
      "Precision : 0.8772130211307824\n",
      "Recall : 0.8165869218500797\n",
      "AUC score : 0.9122264362757941\n",
      "F1 score : 0.8458149779735682\n"
     ]
    },
    {
     "data": {
      "image/png": "[encoded data removed]",
      "text/plain": [
       "<Figure size 432x288 with 1 Axes>"
      ]
     },
     "metadata": {
      "needs_background": "light"
     },
     "output_type": "display_data"
    },
    {
     "name": "stdout",
     "output_type": "stream",
     "text": [
      "\n",
      "\n",
      "Test dataset :\n",
      "\n",
      "Confusion matrix:\n",
      " [[690 106]\n",
      " [135  89]]\n",
      "Accuracy : 0.7637254901960784\n",
      "Precision : 0.4564102564102564\n",
      "Recall : 0.39732142857142855\n",
      "AUC score : 0.6804165918880116\n",
      "F1 score : 0.42482100238663484\n"
     ]
    },
    {
     "data": {
      "image/png": "[encoded data removed]",
      "text/plain": [
       "<Figure size 432x288 with 1 Axes>"
      ]
     },
     "metadata": {
      "needs_background": "light"
     },
     "output_type": "display_data"
    }
   ],
   "source": [
    "lor = LogisticRegression()\n",
    "\n",
    "model_eval(lor, X_train_sm, X_test, y_train_sm, y_test)"
   ]
  },
  {
   "cell_type": "markdown",
   "metadata": {},
   "source": [
    "## 1.3 Feature selection, LOG reg"
   ]
  },
  {
   "cell_type": "code",
   "execution_count": 788,
   "metadata": {},
   "outputs": [],
   "source": [
    "#X['UNMET_NEED'] = df_final['UNMET_NEED']\n",
    "#X['EST_FAM_CONTRIBUTION'] = df_final['EST_FAM_CONTRIBUTION']"
   ]
  },
  {
   "cell_type": "code",
   "execution_count": 789,
   "metadata": {},
   "outputs": [],
   "source": [
    "X['UNMET_NEED'] = pt.fit_transform(X[['UNMET_NEED']])\n",
    "X['EST_FAM_CONTRIBUTION'] = pt.fit_transform(X[['EST_FAM_CONTRIBUTION']])"
   ]
  },
  {
   "cell_type": "code",
   "execution_count": 790,
   "metadata": {},
   "outputs": [],
   "source": [
    "from sklearn.feature_selection import RFECV"
   ]
  },
  {
   "cell_type": "code",
   "execution_count": 791,
   "metadata": {},
   "outputs": [
    {
     "data": {
      "text/plain": [
       "RFECV(cv=3, estimator=LogisticRegression(), n_jobs=-1, scoring='roc_auc')"
      ]
     },
     "execution_count": 791,
     "metadata": {},
     "output_type": "execute_result"
    }
   ],
   "source": [
    "lor = LogisticRegression()\n",
    "\n",
    "feat_sel = RFECV(lor, cv=3, scoring='roc_auc', n_jobs=-1)\n",
    "feat_sel.fit(X,y)"
   ]
  },
  {
   "cell_type": "code",
   "execution_count": 792,
   "metadata": {},
   "outputs": [
    {
     "data": {
      "text/plain": [
       "76"
      ]
     },
     "execution_count": 792,
     "metadata": {},
     "output_type": "execute_result"
    }
   ],
   "source": [
    "feat_sel.n_features_"
   ]
  },
  {
   "cell_type": "code",
   "execution_count": 793,
   "metadata": {},
   "outputs": [],
   "source": [
    "rfe_df = pd.DataFrame(feat_sel.ranking_, index=X.columns, columns=['rank'])"
   ]
  },
  {
   "cell_type": "code",
   "execution_count": 794,
   "metadata": {},
   "outputs": [],
   "source": [
    "selected = list(rfe_df[rfe_df['rank'] == 1].index)"
   ]
  },
  {
   "cell_type": "code",
   "execution_count": 795,
   "metadata": {},
   "outputs": [],
   "source": [
    "X_train_sel = X_train[selected]\n",
    "X_test_sel = X_test[selected]"
   ]
  },
  {
   "cell_type": "code",
   "execution_count": 796,
   "metadata": {},
   "outputs": [
    {
     "name": "stdout",
     "output_type": "stream",
     "text": [
      "Train dataset :\n",
      "\n",
      "Confusion matrix:\n",
      " [[1852   29]\n",
      " [ 354  144]]\n",
      "Accuracy : 0.8390079865489701\n",
      "Precision : 0.8323699421965318\n",
      "Recall : 0.2891566265060241\n",
      "AUC score : 0.7516333275686478\n",
      "F1 score : 0.4292101341281669\n"
     ]
    },
    {
     "data": {
      "image/png": "[encoded data removed]",
      "text/plain": [
       "<Figure size 432x288 with 1 Axes>"
      ]
     },
     "metadata": {
      "needs_background": "light"
     },
     "output_type": "display_data"
    },
    {
     "name": "stdout",
     "output_type": "stream",
     "text": [
      "\n",
      "\n",
      "Test dataset :\n",
      "\n",
      "Confusion matrix:\n",
      " [[789   7]\n",
      " [155  69]]\n",
      "Accuracy : 0.8411764705882353\n",
      "Precision : 0.9078947368421053\n",
      "Recall : 0.3080357142857143\n",
      "AUC score : 0.7194959170854272\n",
      "F1 score : 0.46\n"
     ]
    },
    {
     "data": {
      "image/png": "[encoded data removed]",
      "text/plain": [
       "<Figure size 432x288 with 1 Axes>"
      ]
     },
     "metadata": {
      "needs_background": "light"
     },
     "output_type": "display_data"
    }
   ],
   "source": [
    "lor = LogisticRegression()\n",
    "\n",
    "model_eval(lor, X_train_sel, X_test_sel, y_train, y_test)"
   ]
  },
  {
   "cell_type": "code",
   "execution_count": 797,
   "metadata": {},
   "outputs": [],
   "source": [
    "X_train_sm_sel = X_train_sm[selected]\n",
    "X_test_sm_sel = X_test[selected]"
   ]
  },
  {
   "cell_type": "code",
   "execution_count": 798,
   "metadata": {},
   "outputs": [
    {
     "name": "stdout",
     "output_type": "stream",
     "text": [
      "Train dataset :\n",
      "\n",
      "Confusion matrix:\n",
      " [[1606  275]\n",
      " [ 357 1524]]\n",
      "Accuracy : 0.8320042530568846\n",
      "Precision : 0.8471372984991662\n",
      "Recall : 0.810207336523126\n",
      "AUC score : 0.8973534556511136\n",
      "F1 score : 0.8282608695652174\n"
     ]
    },
    {
     "data": {
      "image/png": "[encoded data removed]",
      "text/plain": [
       "<Figure size 432x288 with 1 Axes>"
      ]
     },
     "metadata": {
      "needs_background": "light"
     },
     "output_type": "display_data"
    },
    {
     "name": "stdout",
     "output_type": "stream",
     "text": [
      "\n",
      "\n",
      "Test dataset :\n",
      "\n",
      "Confusion matrix:\n",
      " [[675 121]\n",
      " [136  88]]\n",
      "Accuracy : 0.7480392156862745\n",
      "Precision : 0.42105263157894735\n",
      "Recall : 0.39285714285714285\n",
      "AUC score : 0.6813531945441493\n",
      "F1 score : 0.40646651270207856\n"
     ]
    },
    {
     "data": {
      "image/png": "[encoded data removed]",
      "text/plain": [
       "<Figure size 432x288 with 1 Axes>"
      ]
     },
     "metadata": {
      "needs_background": "light"
     },
     "output_type": "display_data"
    }
   ],
   "source": [
    "model_eval(lor, X_train_sm_sel, X_test_sm_sel, y_train_sm, y_test)"
   ]
  },
  {
   "cell_type": "code",
   "execution_count": 799,
   "metadata": {},
   "outputs": [],
   "source": [
    "#SMOTE analysis"
   ]
  },
  {
   "cell_type": "markdown",
   "metadata": {},
   "source": [
    "## 2. Decision Tree Classifier"
   ]
  },
  {
   "cell_type": "code",
   "execution_count": 800,
   "metadata": {},
   "outputs": [],
   "source": [
    "from sklearn.tree import DecisionTreeClassifier"
   ]
  },
  {
   "cell_type": "code",
   "execution_count": 801,
   "metadata": {},
   "outputs": [
    {
     "name": "stdout",
     "output_type": "stream",
     "text": [
      "Train dataset :\n",
      "\n",
      "Confusion matrix:\n",
      " [[1881    0]\n",
      " [   0  498]]\n",
      "Accuracy : 1.0\n",
      "Precision : 1.0\n",
      "Recall : 1.0\n",
      "AUC score : 1.0\n",
      "F1 score : 1.0\n"
     ]
    },
    {
     "data": {
      "image/png": "[encoded data removed]",
      "text/plain": [
       "<Figure size 432x288 with 1 Axes>"
      ]
     },
     "metadata": {
      "needs_background": "light"
     },
     "output_type": "display_data"
    },
    {
     "name": "stdout",
     "output_type": "stream",
     "text": [
      "\n",
      "\n",
      "Test dataset :\n",
      "\n",
      "Confusion matrix:\n",
      " [[666 130]\n",
      " [139  85]]\n",
      "Accuracy : 0.7362745098039216\n",
      "Precision : 0.3953488372093023\n",
      "Recall : 0.3794642857142857\n",
      "AUC score : 0.6080738513998564\n",
      "F1 score : 0.38724373576309795\n"
     ]
    },
    {
     "data": {
      "image/png": "[encoded data removed]",
      "text/plain": [
       "<Figure size 432x288 with 1 Axes>"
      ]
     },
     "metadata": {
      "needs_background": "light"
     },
     "output_type": "display_data"
    }
   ],
   "source": [
    "dtc = DecisionTreeClassifier(random_state=42)\n",
    "\n",
    "model_eval(dtc)"
   ]
  },
  {
   "cell_type": "code",
   "execution_count": 803,
   "metadata": {},
   "outputs": [],
   "source": [
    "from sklearn.model_selection import GridSearchCV, RandomizedSearchCV"
   ]
  },
  {
   "cell_type": "code",
   "execution_count": 804,
   "metadata": {},
   "outputs": [],
   "source": [
    "# hyperparameter tuning\n",
    "\n",
    "params = {\n",
    "    'criterion' : ['gini', 'entropy'],\n",
    "    'max_depth' : [5,6,7,8,9,10,11,12,13,14,15],\n",
    "    'min_samples_split' : np.arange(2,15)\n",
    "}"
   ]
  },
  {
   "cell_type": "code",
   "execution_count": 805,
   "metadata": {},
   "outputs": [
    {
     "name": "stdout",
     "output_type": "stream",
     "text": [
      "Fitting 3 folds for each of 286 candidates, totalling 858 fits\n"
     ]
    },
    {
     "data": {
      "text/plain": [
       "GridSearchCV(cv=3, estimator=DecisionTreeClassifier(), n_jobs=-1,\n",
       "             param_grid={'criterion': ['gini', 'entropy'],\n",
       "                         'max_depth': [5, 6, 7, 8, 9, 10, 11, 12, 13, 14, 15],\n",
       "                         'min_samples_split': array([ 2,  3,  4,  5,  6,  7,  8,  9, 10, 11, 12, 13, 14])},\n",
       "             scoring='roc_auc', verbose=3)"
      ]
     },
     "execution_count": 805,
     "metadata": {},
     "output_type": "execute_result"
    }
   ],
   "source": [
    "dtc = DecisionTreeClassifier()\n",
    "\n",
    "g_search = GridSearchCV(dtc, param_grid=params, scoring='roc_auc', n_jobs=-1, cv=3, verbose=3)\n",
    "g_search.fit(X,y)"
   ]
  },
  {
   "cell_type": "code",
   "execution_count": 806,
   "metadata": {},
   "outputs": [
    {
     "data": {
      "text/plain": [
       "{'criterion': 'gini', 'max_depth': 11, 'min_samples_split': 13}"
      ]
     },
     "execution_count": 806,
     "metadata": {},
     "output_type": "execute_result"
    }
   ],
   "source": [
    "g_search.best_params_"
   ]
  },
  {
   "cell_type": "code",
   "execution_count": 807,
   "metadata": {},
   "outputs": [
    {
     "data": {
      "text/html": [
       "<div>\n",
       "<style scoped>\n",
       "    .dataframe tbody tr th:only-of-type {\n",
       "        vertical-align: middle;\n",
       "    }\n",
       "\n",
       "    .dataframe tbody tr th {\n",
       "        vertical-align: top;\n",
       "    }\n",
       "\n",
       "    .dataframe thead th {\n",
       "        text-align: right;\n",
       "    }\n",
       "</style>\n",
       "<table border=\"1\" class=\"dataframe\">\n",
       "  <thead>\n",
       "    <tr style=\"text-align: right;\">\n",
       "      <th></th>\n",
       "      <th>mean_fit_time</th>\n",
       "      <th>std_fit_time</th>\n",
       "      <th>mean_score_time</th>\n",
       "      <th>std_score_time</th>\n",
       "      <th>param_criterion</th>\n",
       "      <th>param_max_depth</th>\n",
       "      <th>param_min_samples_split</th>\n",
       "      <th>params</th>\n",
       "      <th>split0_test_score</th>\n",
       "      <th>split1_test_score</th>\n",
       "      <th>split2_test_score</th>\n",
       "      <th>mean_test_score</th>\n",
       "      <th>std_test_score</th>\n",
       "      <th>rank_test_score</th>\n",
       "    </tr>\n",
       "  </thead>\n",
       "  <tbody>\n",
       "    <tr>\n",
       "      <th>0</th>\n",
       "      <td>0.048368</td>\n",
       "      <td>0.008265</td>\n",
       "      <td>0.012676</td>\n",
       "      <td>0.000943</td>\n",
       "      <td>gini</td>\n",
       "      <td>5</td>\n",
       "      <td>2</td>\n",
       "      <td>{'criterion': 'gini', 'max_depth': 5, 'min_sam...</td>\n",
       "      <td>0.518723</td>\n",
       "      <td>0.334478</td>\n",
       "      <td>0.468818</td>\n",
       "      <td>0.440673</td>\n",
       "      <td>0.077806</td>\n",
       "      <td>257</td>\n",
       "    </tr>\n",
       "    <tr>\n",
       "      <th>1</th>\n",
       "      <td>0.056706</td>\n",
       "      <td>0.005441</td>\n",
       "      <td>0.020349</td>\n",
       "      <td>0.013209</td>\n",
       "      <td>gini</td>\n",
       "      <td>5</td>\n",
       "      <td>3</td>\n",
       "      <td>{'criterion': 'gini', 'max_depth': 5, 'min_sam...</td>\n",
       "      <td>0.518723</td>\n",
       "      <td>0.334478</td>\n",
       "      <td>0.469872</td>\n",
       "      <td>0.441025</td>\n",
       "      <td>0.077935</td>\n",
       "      <td>251</td>\n",
       "    </tr>\n",
       "    <tr>\n",
       "      <th>2</th>\n",
       "      <td>0.047034</td>\n",
       "      <td>0.003268</td>\n",
       "      <td>0.013009</td>\n",
       "      <td>0.002161</td>\n",
       "      <td>gini</td>\n",
       "      <td>5</td>\n",
       "      <td>4</td>\n",
       "      <td>{'criterion': 'gini', 'max_depth': 5, 'min_sam...</td>\n",
       "      <td>0.518723</td>\n",
       "      <td>0.334478</td>\n",
       "      <td>0.469760</td>\n",
       "      <td>0.440987</td>\n",
       "      <td>0.077921</td>\n",
       "      <td>253</td>\n",
       "    </tr>\n",
       "    <tr>\n",
       "      <th>3</th>\n",
       "      <td>0.050036</td>\n",
       "      <td>0.006687</td>\n",
       "      <td>0.022015</td>\n",
       "      <td>0.008988</td>\n",
       "      <td>gini</td>\n",
       "      <td>5</td>\n",
       "      <td>5</td>\n",
       "      <td>{'criterion': 'gini', 'max_depth': 5, 'min_sam...</td>\n",
       "      <td>0.518723</td>\n",
       "      <td>0.334478</td>\n",
       "      <td>0.468846</td>\n",
       "      <td>0.440682</td>\n",
       "      <td>0.077809</td>\n",
       "      <td>256</td>\n",
       "    </tr>\n",
       "    <tr>\n",
       "      <th>4</th>\n",
       "      <td>0.043365</td>\n",
       "      <td>0.001248</td>\n",
       "      <td>0.013677</td>\n",
       "      <td>0.002359</td>\n",
       "      <td>gini</td>\n",
       "      <td>5</td>\n",
       "      <td>6</td>\n",
       "      <td>{'criterion': 'gini', 'max_depth': 5, 'min_sam...</td>\n",
       "      <td>0.518723</td>\n",
       "      <td>0.334478</td>\n",
       "      <td>0.468818</td>\n",
       "      <td>0.440673</td>\n",
       "      <td>0.077806</td>\n",
       "      <td>257</td>\n",
       "    </tr>\n",
       "  </tbody>\n",
       "</table>\n",
       "</div>"
      ],
      "text/plain": [
       "   mean_fit_time  std_fit_time  mean_score_time  std_score_time  \\\n",
       "0       0.048368      0.008265         0.012676        0.000943   \n",
       "1       0.056706      0.005441         0.020349        0.013209   \n",
       "2       0.047034      0.003268         0.013009        0.002161   \n",
       "3       0.050036      0.006687         0.022015        0.008988   \n",
       "4       0.043365      0.001248         0.013677        0.002359   \n",
       "\n",
       "  param_criterion param_max_depth param_min_samples_split  \\\n",
       "0            gini               5                       2   \n",
       "1            gini               5                       3   \n",
       "2            gini               5                       4   \n",
       "3            gini               5                       5   \n",
       "4            gini               5                       6   \n",
       "\n",
       "                                              params  split0_test_score  \\\n",
       "0  {'criterion': 'gini', 'max_depth': 5, 'min_sam...           0.518723   \n",
       "1  {'criterion': 'gini', 'max_depth': 5, 'min_sam...           0.518723   \n",
       "2  {'criterion': 'gini', 'max_depth': 5, 'min_sam...           0.518723   \n",
       "3  {'criterion': 'gini', 'max_depth': 5, 'min_sam...           0.518723   \n",
       "4  {'criterion': 'gini', 'max_depth': 5, 'min_sam...           0.518723   \n",
       "\n",
       "   split1_test_score  split2_test_score  mean_test_score  std_test_score  \\\n",
       "0           0.334478           0.468818         0.440673        0.077806   \n",
       "1           0.334478           0.469872         0.441025        0.077935   \n",
       "2           0.334478           0.469760         0.440987        0.077921   \n",
       "3           0.334478           0.468846         0.440682        0.077809   \n",
       "4           0.334478           0.468818         0.440673        0.077806   \n",
       "\n",
       "   rank_test_score  \n",
       "0              257  \n",
       "1              251  \n",
       "2              253  \n",
       "3              256  \n",
       "4              257  "
      ]
     },
     "execution_count": 807,
     "metadata": {},
     "output_type": "execute_result"
    }
   ],
   "source": [
    "pd.DataFrame(g_search.cv_results_).head()"
   ]
  },
  {
   "cell_type": "code",
   "execution_count": 808,
   "metadata": {},
   "outputs": [
    {
     "name": "stdout",
     "output_type": "stream",
     "text": [
      "Train dataset :\n",
      "\n",
      "Confusion matrix:\n",
      " [[1861   20]\n",
      " [ 292  206]]\n",
      "Accuracy : 0.8688524590163934\n",
      "Precision : 0.911504424778761\n",
      "Recall : 0.41365461847389556\n",
      "AUC score : 0.79438861239749\n",
      "F1 score : 0.569060773480663\n"
     ]
    },
    {
     "data": {
      "image/png": "[encoded data removed]",
      "text/plain": [
       "<Figure size 432x288 with 1 Axes>"
      ]
     },
     "metadata": {
      "needs_background": "light"
     },
     "output_type": "display_data"
    },
    {
     "name": "stdout",
     "output_type": "stream",
     "text": [
      "\n",
      "\n",
      "Test dataset :\n",
      "\n",
      "Confusion matrix:\n",
      " [[764  32]\n",
      " [169  55]]\n",
      "Accuracy : 0.8029411764705883\n",
      "Precision : 0.632183908045977\n",
      "Recall : 0.24553571428571427\n",
      "AUC score : 0.6112958767049532\n",
      "F1 score : 0.35369774919614144\n"
     ]
    },
    {
     "data": {
      "image/png": "[encoded data removed]",
      "text/plain": [
       "<Figure size 432x288 with 1 Axes>"
      ]
     },
     "metadata": {
      "needs_background": "light"
     },
     "output_type": "display_data"
    }
   ],
   "source": [
    "dtc = DecisionTreeClassifier(**g_search.best_params_, random_state=42)\n",
    "\n",
    "model_eval(dtc)"
   ]
  },
  {
   "cell_type": "code",
   "execution_count": 810,
   "metadata": {},
   "outputs": [],
   "source": [
    "#RandomizedSearchCV\n",
    "\n",
    "from scipy.stats import randint as sp_randint"
   ]
  },
  {
   "cell_type": "code",
   "execution_count": 811,
   "metadata": {},
   "outputs": [],
   "source": [
    "params = {\n",
    "    'criterion' : ['gini', 'entropy'],\n",
    "    'max_depth' : sp_randint(2,10),\n",
    "    'min_samples_split' : sp_randint(2,12)\n",
    "}"
   ]
  },
  {
   "cell_type": "code",
   "execution_count": 812,
   "metadata": {},
   "outputs": [
    {
     "name": "stdout",
     "output_type": "stream",
     "text": [
      "Fitting 3 folds for each of 100 candidates, totalling 300 fits\n"
     ]
    },
    {
     "data": {
      "text/plain": [
       "RandomizedSearchCV(cv=3, estimator=DecisionTreeClassifier(), n_iter=100,\n",
       "                   n_jobs=-1,\n",
       "                   param_distributions={'criterion': ['gini', 'entropy'],\n",
       "                                        'max_depth': <scipy.stats._distn_infrastructure.rv_frozen object at 0x000000EB1B4E4190>,\n",
       "                                        'min_samples_split': <scipy.stats._distn_infrastructure.rv_frozen object at 0x000000EB18F498E0>},\n",
       "                   random_state=42, scoring='roc_auc', verbose=3)"
      ]
     },
     "execution_count": 812,
     "metadata": {},
     "output_type": "execute_result"
    }
   ],
   "source": [
    "dtc= DecisionTreeClassifier()\n",
    "r_search = RandomizedSearchCV(dtc, param_distributions=params, n_iter=100, scoring='roc_auc', n_jobs=-1, cv=3, verbose=3, random_state=42)\n",
    "r_search.fit(X,y)"
   ]
  },
  {
   "cell_type": "code",
   "execution_count": 813,
   "metadata": {},
   "outputs": [
    {
     "data": {
      "text/plain": [
       "{'criterion': 'entropy', 'max_depth': 9, 'min_samples_split': 9}"
      ]
     },
     "execution_count": 813,
     "metadata": {},
     "output_type": "execute_result"
    }
   ],
   "source": [
    "r_search.best_params_"
   ]
  },
  {
   "cell_type": "code",
   "execution_count": 814,
   "metadata": {},
   "outputs": [
    {
     "data": {
      "text/html": [
       "<div>\n",
       "<style scoped>\n",
       "    .dataframe tbody tr th:only-of-type {\n",
       "        vertical-align: middle;\n",
       "    }\n",
       "\n",
       "    .dataframe tbody tr th {\n",
       "        vertical-align: top;\n",
       "    }\n",
       "\n",
       "    .dataframe thead th {\n",
       "        text-align: right;\n",
       "    }\n",
       "</style>\n",
       "<table border=\"1\" class=\"dataframe\">\n",
       "  <thead>\n",
       "    <tr style=\"text-align: right;\">\n",
       "      <th></th>\n",
       "      <th>mean_fit_time</th>\n",
       "      <th>std_fit_time</th>\n",
       "      <th>mean_score_time</th>\n",
       "      <th>std_score_time</th>\n",
       "      <th>param_criterion</th>\n",
       "      <th>param_max_depth</th>\n",
       "      <th>param_min_samples_split</th>\n",
       "      <th>params</th>\n",
       "      <th>split0_test_score</th>\n",
       "      <th>split1_test_score</th>\n",
       "      <th>split2_test_score</th>\n",
       "      <th>mean_test_score</th>\n",
       "      <th>std_test_score</th>\n",
       "      <th>rank_test_score</th>\n",
       "    </tr>\n",
       "  </thead>\n",
       "  <tbody>\n",
       "    <tr>\n",
       "      <th>0</th>\n",
       "      <td>0.044364</td>\n",
       "      <td>0.003095</td>\n",
       "      <td>0.010676</td>\n",
       "      <td>0.000472</td>\n",
       "      <td>gini</td>\n",
       "      <td>5</td>\n",
       "      <td>9</td>\n",
       "      <td>{'criterion': 'gini', 'max_depth': 5, 'min_sam...</td>\n",
       "      <td>0.518723</td>\n",
       "      <td>0.334478</td>\n",
       "      <td>0.469788</td>\n",
       "      <td>0.440997</td>\n",
       "      <td>0.077924</td>\n",
       "      <td>55</td>\n",
       "    </tr>\n",
       "    <tr>\n",
       "      <th>1</th>\n",
       "      <td>0.061043</td>\n",
       "      <td>0.003745</td>\n",
       "      <td>0.012008</td>\n",
       "      <td>0.001415</td>\n",
       "      <td>gini</td>\n",
       "      <td>6</td>\n",
       "      <td>8</td>\n",
       "      <td>{'criterion': 'gini', 'max_depth': 6, 'min_sam...</td>\n",
       "      <td>0.490073</td>\n",
       "      <td>0.357312</td>\n",
       "      <td>0.493293</td>\n",
       "      <td>0.446893</td>\n",
       "      <td>0.063357</td>\n",
       "      <td>49</td>\n",
       "    </tr>\n",
       "    <tr>\n",
       "      <th>2</th>\n",
       "      <td>0.051703</td>\n",
       "      <td>0.006948</td>\n",
       "      <td>0.014010</td>\n",
       "      <td>0.002161</td>\n",
       "      <td>entropy</td>\n",
       "      <td>4</td>\n",
       "      <td>8</td>\n",
       "      <td>{'criterion': 'entropy', 'max_depth': 4, 'min_...</td>\n",
       "      <td>0.490178</td>\n",
       "      <td>0.337602</td>\n",
       "      <td>0.351264</td>\n",
       "      <td>0.393015</td>\n",
       "      <td>0.068931</td>\n",
       "      <td>96</td>\n",
       "    </tr>\n",
       "    <tr>\n",
       "      <th>3</th>\n",
       "      <td>0.046699</td>\n",
       "      <td>0.011332</td>\n",
       "      <td>0.017679</td>\n",
       "      <td>0.004717</td>\n",
       "      <td>gini</td>\n",
       "      <td>4</td>\n",
       "      <td>9</td>\n",
       "      <td>{'criterion': 'gini', 'max_depth': 4, 'min_sam...</td>\n",
       "      <td>0.519009</td>\n",
       "      <td>0.335769</td>\n",
       "      <td>0.429027</td>\n",
       "      <td>0.427935</td>\n",
       "      <td>0.074811</td>\n",
       "      <td>64</td>\n",
       "    </tr>\n",
       "    <tr>\n",
       "      <th>4</th>\n",
       "      <td>0.044364</td>\n",
       "      <td>0.002870</td>\n",
       "      <td>0.012343</td>\n",
       "      <td>0.001247</td>\n",
       "      <td>gini</td>\n",
       "      <td>5</td>\n",
       "      <td>9</td>\n",
       "      <td>{'criterion': 'gini', 'max_depth': 5, 'min_sam...</td>\n",
       "      <td>0.518723</td>\n",
       "      <td>0.334478</td>\n",
       "      <td>0.469760</td>\n",
       "      <td>0.440987</td>\n",
       "      <td>0.077921</td>\n",
       "      <td>56</td>\n",
       "    </tr>\n",
       "    <tr>\n",
       "      <th>...</th>\n",
       "      <td>...</td>\n",
       "      <td>...</td>\n",
       "      <td>...</td>\n",
       "      <td>...</td>\n",
       "      <td>...</td>\n",
       "      <td>...</td>\n",
       "      <td>...</td>\n",
       "      <td>...</td>\n",
       "      <td>...</td>\n",
       "      <td>...</td>\n",
       "      <td>...</td>\n",
       "      <td>...</td>\n",
       "      <td>...</td>\n",
       "      <td>...</td>\n",
       "    </tr>\n",
       "    <tr>\n",
       "      <th>95</th>\n",
       "      <td>0.043697</td>\n",
       "      <td>0.009470</td>\n",
       "      <td>0.017347</td>\n",
       "      <td>0.005739</td>\n",
       "      <td>gini</td>\n",
       "      <td>4</td>\n",
       "      <td>5</td>\n",
       "      <td>{'criterion': 'gini', 'max_depth': 4, 'min_sam...</td>\n",
       "      <td>0.519009</td>\n",
       "      <td>0.335769</td>\n",
       "      <td>0.429027</td>\n",
       "      <td>0.427935</td>\n",
       "      <td>0.074811</td>\n",
       "      <td>64</td>\n",
       "    </tr>\n",
       "    <tr>\n",
       "      <th>96</th>\n",
       "      <td>0.072384</td>\n",
       "      <td>0.006654</td>\n",
       "      <td>0.010341</td>\n",
       "      <td>0.000471</td>\n",
       "      <td>entropy</td>\n",
       "      <td>8</td>\n",
       "      <td>5</td>\n",
       "      <td>{'criterion': 'entropy', 'max_depth': 8, 'min_...</td>\n",
       "      <td>0.553191</td>\n",
       "      <td>0.425497</td>\n",
       "      <td>0.551638</td>\n",
       "      <td>0.510109</td>\n",
       "      <td>0.059833</td>\n",
       "      <td>25</td>\n",
       "    </tr>\n",
       "    <tr>\n",
       "      <th>97</th>\n",
       "      <td>0.035358</td>\n",
       "      <td>0.002497</td>\n",
       "      <td>0.012676</td>\n",
       "      <td>0.001701</td>\n",
       "      <td>gini</td>\n",
       "      <td>2</td>\n",
       "      <td>9</td>\n",
       "      <td>{'criterion': 'gini', 'max_depth': 2, 'min_sam...</td>\n",
       "      <td>0.503275</td>\n",
       "      <td>0.501770</td>\n",
       "      <td>0.426584</td>\n",
       "      <td>0.477210</td>\n",
       "      <td>0.035803</td>\n",
       "      <td>35</td>\n",
       "    </tr>\n",
       "    <tr>\n",
       "      <th>98</th>\n",
       "      <td>0.065381</td>\n",
       "      <td>0.010282</td>\n",
       "      <td>0.012675</td>\n",
       "      <td>0.004500</td>\n",
       "      <td>entropy</td>\n",
       "      <td>8</td>\n",
       "      <td>3</td>\n",
       "      <td>{'criterion': 'entropy', 'max_depth': 8, 'min_...</td>\n",
       "      <td>0.548048</td>\n",
       "      <td>0.417775</td>\n",
       "      <td>0.559031</td>\n",
       "      <td>0.508285</td>\n",
       "      <td>0.064157</td>\n",
       "      <td>27</td>\n",
       "    </tr>\n",
       "    <tr>\n",
       "      <th>99</th>\n",
       "      <td>0.029353</td>\n",
       "      <td>0.003401</td>\n",
       "      <td>0.011342</td>\n",
       "      <td>0.001248</td>\n",
       "      <td>entropy</td>\n",
       "      <td>2</td>\n",
       "      <td>10</td>\n",
       "      <td>{'criterion': 'entropy', 'max_depth': 2, 'min_...</td>\n",
       "      <td>0.503275</td>\n",
       "      <td>0.332262</td>\n",
       "      <td>0.431269</td>\n",
       "      <td>0.422268</td>\n",
       "      <td>0.070105</td>\n",
       "      <td>79</td>\n",
       "    </tr>\n",
       "  </tbody>\n",
       "</table>\n",
       "<p>100 rows × 14 columns</p>\n",
       "</div>"
      ],
      "text/plain": [
       "    mean_fit_time  std_fit_time  mean_score_time  std_score_time  \\\n",
       "0        0.044364      0.003095         0.010676        0.000472   \n",
       "1        0.061043      0.003745         0.012008        0.001415   \n",
       "2        0.051703      0.006948         0.014010        0.002161   \n",
       "3        0.046699      0.011332         0.017679        0.004717   \n",
       "4        0.044364      0.002870         0.012343        0.001247   \n",
       "..            ...           ...              ...             ...   \n",
       "95       0.043697      0.009470         0.017347        0.005739   \n",
       "96       0.072384      0.006654         0.010341        0.000471   \n",
       "97       0.035358      0.002497         0.012676        0.001701   \n",
       "98       0.065381      0.010282         0.012675        0.004500   \n",
       "99       0.029353      0.003401         0.011342        0.001248   \n",
       "\n",
       "   param_criterion param_max_depth param_min_samples_split  \\\n",
       "0             gini               5                       9   \n",
       "1             gini               6                       8   \n",
       "2          entropy               4                       8   \n",
       "3             gini               4                       9   \n",
       "4             gini               5                       9   \n",
       "..             ...             ...                     ...   \n",
       "95            gini               4                       5   \n",
       "96         entropy               8                       5   \n",
       "97            gini               2                       9   \n",
       "98         entropy               8                       3   \n",
       "99         entropy               2                      10   \n",
       "\n",
       "                                               params  split0_test_score  \\\n",
       "0   {'criterion': 'gini', 'max_depth': 5, 'min_sam...           0.518723   \n",
       "1   {'criterion': 'gini', 'max_depth': 6, 'min_sam...           0.490073   \n",
       "2   {'criterion': 'entropy', 'max_depth': 4, 'min_...           0.490178   \n",
       "3   {'criterion': 'gini', 'max_depth': 4, 'min_sam...           0.519009   \n",
       "4   {'criterion': 'gini', 'max_depth': 5, 'min_sam...           0.518723   \n",
       "..                                                ...                ...   \n",
       "95  {'criterion': 'gini', 'max_depth': 4, 'min_sam...           0.519009   \n",
       "96  {'criterion': 'entropy', 'max_depth': 8, 'min_...           0.553191   \n",
       "97  {'criterion': 'gini', 'max_depth': 2, 'min_sam...           0.503275   \n",
       "98  {'criterion': 'entropy', 'max_depth': 8, 'min_...           0.548048   \n",
       "99  {'criterion': 'entropy', 'max_depth': 2, 'min_...           0.503275   \n",
       "\n",
       "    split1_test_score  split2_test_score  mean_test_score  std_test_score  \\\n",
       "0            0.334478           0.469788         0.440997        0.077924   \n",
       "1            0.357312           0.493293         0.446893        0.063357   \n",
       "2            0.337602           0.351264         0.393015        0.068931   \n",
       "3            0.335769           0.429027         0.427935        0.074811   \n",
       "4            0.334478           0.469760         0.440987        0.077921   \n",
       "..                ...                ...              ...             ...   \n",
       "95           0.335769           0.429027         0.427935        0.074811   \n",
       "96           0.425497           0.551638         0.510109        0.059833   \n",
       "97           0.501770           0.426584         0.477210        0.035803   \n",
       "98           0.417775           0.559031         0.508285        0.064157   \n",
       "99           0.332262           0.431269         0.422268        0.070105   \n",
       "\n",
       "    rank_test_score  \n",
       "0                55  \n",
       "1                49  \n",
       "2                96  \n",
       "3                64  \n",
       "4                56  \n",
       "..              ...  \n",
       "95               64  \n",
       "96               25  \n",
       "97               35  \n",
       "98               27  \n",
       "99               79  \n",
       "\n",
       "[100 rows x 14 columns]"
      ]
     },
     "execution_count": 814,
     "metadata": {},
     "output_type": "execute_result"
    }
   ],
   "source": [
    "pd.DataFrame(r_search.cv_results_)"
   ]
  },
  {
   "cell_type": "code",
   "execution_count": 815,
   "metadata": {},
   "outputs": [
    {
     "name": "stdout",
     "output_type": "stream",
     "text": [
      "Train dataset :\n",
      "\n",
      "Confusion matrix:\n",
      " [[1852   29]\n",
      " [ 306  192]]\n",
      "Accuracy : 0.8591845313156788\n",
      "Precision : 0.8687782805429864\n",
      "Recall : 0.3855421686746988\n",
      "AUC score : 0.7886372710405685\n",
      "F1 score : 0.5340751043115439\n"
     ]
    },
    {
     "data": {
      "image/png": "[encoded data removed]",
      "text/plain": [
       "<Figure size 432x288 with 1 Axes>"
      ]
     },
     "metadata": {
      "needs_background": "light"
     },
     "output_type": "display_data"
    },
    {
     "name": "stdout",
     "output_type": "stream",
     "text": [
      "\n",
      "\n",
      "Test dataset :\n",
      "\n",
      "Confusion matrix:\n",
      " [[772  24]\n",
      " [162  62]]\n",
      "Accuracy : 0.8176470588235294\n",
      "Precision : 0.7209302325581395\n",
      "Recall : 0.2767857142857143\n",
      "AUC score : 0.6348399362885856\n",
      "F1 score : 0.4\n"
     ]
    },
    {
     "data": {
      "image/png": "[encoded data removed]",
      "text/plain": [
       "<Figure size 432x288 with 1 Axes>"
      ]
     },
     "metadata": {
      "needs_background": "light"
     },
     "output_type": "display_data"
    }
   ],
   "source": [
    "dtc = DecisionTreeClassifier(**r_search.best_params_, random_state=42)\n",
    "\n",
    "model_eval(dtc)"
   ]
  },
  {
   "cell_type": "markdown",
   "metadata": {},
   "source": [
    "## 3. Random forest\n"
   ]
  },
  {
   "cell_type": "code",
   "execution_count": 817,
   "metadata": {},
   "outputs": [],
   "source": [
    "from sklearn.ensemble import RandomForestClassifier"
   ]
  },
  {
   "cell_type": "code",
   "execution_count": 818,
   "metadata": {},
   "outputs": [
    {
     "name": "stdout",
     "output_type": "stream",
     "text": [
      "Train dataset :\n",
      "\n",
      "Confusion matrix:\n",
      " [[1881    0]\n",
      " [   0  498]]\n",
      "Accuracy : 1.0\n",
      "Precision : 1.0\n",
      "Recall : 1.0\n",
      "AUC score : 1.0\n",
      "F1 score : 1.0\n"
     ]
    },
    {
     "data": {
      "image/png": "[encoded data removed]",
      "text/plain": [
       "<Figure size 432x288 with 1 Axes>"
      ]
     },
     "metadata": {
      "needs_background": "light"
     },
     "output_type": "display_data"
    },
    {
     "name": "stdout",
     "output_type": "stream",
     "text": [
      "\n",
      "\n",
      "Test dataset :\n",
      "\n",
      "Confusion matrix:\n",
      " [[789   7]\n",
      " [161  63]]\n",
      "Accuracy : 0.8352941176470589\n",
      "Precision : 0.9\n",
      "Recall : 0.28125\n",
      "AUC score : 0.6967426417803303\n",
      "F1 score : 0.4285714285714286\n"
     ]
    },
    {
     "data": {
      "image/png": "[encoded data removed]",
      "text/plain": [
       "<Figure size 432x288 with 1 Axes>"
      ]
     },
     "metadata": {
      "needs_background": "light"
     },
     "output_type": "display_data"
    }
   ],
   "source": [
    "rfc = RandomForestClassifier(random_state=42)\n",
    "\n",
    "model_eval(rfc)"
   ]
  },
  {
   "cell_type": "code",
   "execution_count": 820,
   "metadata": {},
   "outputs": [],
   "source": [
    "#hyparameter tuning\n",
    "\n",
    "params = {\n",
    "    'criterion' : ['gini', 'entropy'],\n",
    "    'max_depth' : sp_randint(2,20),\n",
    "    'min_samples_split' : sp_randint(2,25),\n",
    "    'n_estimators' : sp_randint(100,200)\n",
    "}\n",
    "\n",
    "rfc = RandomForestClassifier()"
   ]
  },
  {
   "cell_type": "code",
   "execution_count": 821,
   "metadata": {},
   "outputs": [
    {
     "data": {
      "text/plain": [
       "RandomizedSearchCV(cv=3, estimator=RandomForestClassifier(), n_iter=50,\n",
       "                   n_jobs=-1,\n",
       "                   param_distributions={'criterion': ['gini', 'entropy'],\n",
       "                                        'max_depth': <scipy.stats._distn_infrastructure.rv_frozen object at 0x000000EB182BF880>,\n",
       "                                        'min_samples_split': <scipy.stats._distn_infrastructure.rv_frozen object at 0x000000EB1C0CDF70>,\n",
       "                                        'n_estimators': <scipy.stats._distn_infrastructure.rv_frozen object at 0x000000EB16B64430>},\n",
       "                   random_state=42, scoring='roc_auc')"
      ]
     },
     "execution_count": 821,
     "metadata": {},
     "output_type": "execute_result"
    }
   ],
   "source": [
    "r_search = RandomizedSearchCV(rfc, param_distributions=params, n_iter=50, scoring='roc_auc', n_jobs=-1, cv=3, random_state=42)\n",
    "r_search.fit(X,y)"
   ]
  },
  {
   "cell_type": "code",
   "execution_count": 822,
   "metadata": {},
   "outputs": [
    {
     "data": {
      "text/plain": [
       "{'criterion': 'gini',\n",
       " 'max_depth': 14,\n",
       " 'min_samples_split': 10,\n",
       " 'n_estimators': 102}"
      ]
     },
     "execution_count": 822,
     "metadata": {},
     "output_type": "execute_result"
    }
   ],
   "source": [
    "r_search.best_params_"
   ]
  },
  {
   "cell_type": "code",
   "execution_count": 823,
   "metadata": {},
   "outputs": [
    {
     "name": "stdout",
     "output_type": "stream",
     "text": [
      "Train dataset :\n",
      "\n",
      "Confusion matrix:\n",
      " [[1865   16]\n",
      " [ 351  147]]\n",
      "Accuracy : 0.8457335014712064\n",
      "Precision : 0.901840490797546\n",
      "Recall : 0.29518072289156627\n",
      "AUC score : 0.9687169731557811\n",
      "F1 score : 0.44478063540090773\n"
     ]
    },
    {
     "data": {
      "image/png": "[encoded data removed]",
      "text/plain": [
       "<Figure size 432x288 with 1 Axes>"
      ]
     },
     "metadata": {
      "needs_background": "light"
     },
     "output_type": "display_data"
    },
    {
     "name": "stdout",
     "output_type": "stream",
     "text": [
      "\n",
      "\n",
      "Test dataset :\n",
      "\n",
      "Confusion matrix:\n",
      " [[790   6]\n",
      " [163  61]]\n",
      "Accuracy : 0.8343137254901961\n",
      "Precision : 0.9104477611940298\n",
      "Recall : 0.27232142857142855\n",
      "AUC score : 0.7101411073223259\n",
      "F1 score : 0.4192439862542955\n"
     ]
    },
    {
     "data": {
      "image/png": "[encoded data removed]",
      "text/plain": [
       "<Figure size 432x288 with 1 Axes>"
      ]
     },
     "metadata": {
      "needs_background": "light"
     },
     "output_type": "display_data"
    }
   ],
   "source": [
    "rfc = RandomForestClassifier(**r_search.best_params_, random_state=42)\n",
    "model_eval(rfc)"
   ]
  },
  {
   "cell_type": "markdown",
   "metadata": {},
   "source": [
    "# Logistic regression gave best results"
   ]
  },
  {
   "cell_type": "code",
   "execution_count": 848,
   "metadata": {},
   "outputs": [
    {
     "name": "stdout",
     "output_type": "stream",
     "text": [
      "Train dataset :\n",
      "\n",
      "Confusion matrix:\n",
      " [[1851   30]\n",
      " [ 351  147]]\n",
      "Accuracy : 0.8398486759142497\n",
      "Precision : 0.8305084745762712\n",
      "Recall : 0.29518072289156627\n",
      "AUC score : 0.7563993347125877\n",
      "F1 score : 0.43555555555555553\n"
     ]
    },
    {
     "data": {
      "image/png": "[encoded data removed]",
      "text/plain": [
       "<Figure size 432x288 with 1 Axes>"
      ]
     },
     "metadata": {
      "needs_background": "light"
     },
     "output_type": "display_data"
    },
    {
     "name": "stdout",
     "output_type": "stream",
     "text": [
      "\n",
      "\n",
      "Test dataset :\n",
      "\n",
      "Confusion matrix:\n",
      " [[788   8]\n",
      " [155  69]]\n",
      "Accuracy : 0.8401960784313726\n",
      "Precision : 0.8961038961038961\n",
      "Recall : 0.3080357142857143\n",
      "AUC score : 0.7104103104809764\n",
      "F1 score : 0.45847176079734214\n"
     ]
    },
    {
     "data": {
      "image/png": "[encoded data removed]",
      "text/plain": [
       "<Figure size 432x288 with 1 Axes>"
      ]
     },
     "metadata": {
      "needs_background": "light"
     },
     "output_type": "display_data"
    }
   ],
   "source": [
    "lor = LogisticRegression()\n",
    "model_eval(lor)"
   ]
  },
  {
   "cell_type": "code",
   "execution_count": null,
   "metadata": {},
   "outputs": [],
   "source": [
    "#The logistic regression model built gave us the best results for predicting the attrition rate of student with an accuracy of 84%.. "
   ]
  }
 ],
 "metadata": {
  "kernelspec": {
   "display_name": "Python 3",
   "language": "python",
   "name": "python3"
  },
  "language_info": {
   "codemirror_mode": {
    "name": "ipython",
    "version": 3
   },
   "file_extension": ".py",
   "mimetype": "text/x-python",
   "name": "python",
   "nbconvert_exporter": "python",
   "pygments_lexer": "ipython3",
   "version": "3.8.5"
  }
 },
 "nbformat": 4,
 "nbformat_minor": 4
}
